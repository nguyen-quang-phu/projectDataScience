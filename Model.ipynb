{
 "cells": [
  {
   "cell_type": "code",
   "execution_count": 1,
   "metadata": {},
   "outputs": [],
   "source": [
    "import pandas as pd\n",
    "import numpy as np\n",
    "import matplotlib\n",
    "from matplotlib import pyplot as plt\n",
    "import seaborn as sns\n",
    "import re"
   ]
  },
  {
   "cell_type": "code",
   "execution_count": 2,
   "metadata": {},
   "outputs": [
    {
     "data": {
      "text/html": [
       "<div>\n",
       "<style scoped>\n",
       "    .dataframe tbody tr th:only-of-type {\n",
       "        vertical-align: middle;\n",
       "    }\n",
       "\n",
       "    .dataframe tbody tr th {\n",
       "        vertical-align: top;\n",
       "    }\n",
       "\n",
       "    .dataframe thead th {\n",
       "        text-align: right;\n",
       "    }\n",
       "</style>\n",
       "<table border=\"1\" class=\"dataframe\">\n",
       "  <thead>\n",
       "    <tr style=\"text-align: right;\">\n",
       "      <th></th>\n",
       "      <th>Link</th>\n",
       "      <th>Tên</th>\n",
       "      <th>Loại nhà</th>\n",
       "      <th>Diện tích</th>\n",
       "      <th>Các loại phòng</th>\n",
       "      <th>Giá</th>\n",
       "      <th>Vị trí</th>\n",
       "      <th>Tiện ích</th>\n",
       "    </tr>\n",
       "  </thead>\n",
       "  <tbody>\n",
       "    <tr>\n",
       "      <td>0</td>\n",
       "      <td>https://www.luxstay.com/vi/rooms/13967</td>\n",
       "      <td>JOLIE HOUSE - BIỆT THỰ HƯỚNG RA VƯỜN - CÁCH TR...</td>\n",
       "      <td>Biệt Thự</td>\n",
       "      <td>100 m2</td>\n",
       "      <td>Nguyên căn · 5 phòng tắm · 6 giường · 4 phòng ...</td>\n",
       "      <td>2,887,500₫ /đêm</td>\n",
       "      <td>Đà Lạt, Lâm Đồng, Vietnam</td>\n",
       "      <td>NaN</td>\n",
       "    </tr>\n",
       "    <tr>\n",
       "      <td>1</td>\n",
       "      <td>https://www.luxstay.com/vi/rooms/33714</td>\n",
       "      <td>Gold&amp;Ruby House- Phòng Quadruple</td>\n",
       "      <td>Căn hộ dịch vụ</td>\n",
       "      <td>20 m2</td>\n",
       "      <td>Phòng riêng · 1 phòng tắm · 2 giường · 1 phòng...</td>\n",
       "      <td>600,000₫ /đêm</td>\n",
       "      <td>Đà Lạt, Lâm Đồng, Vietnam</td>\n",
       "      <td>Tiện ích gia đình,Phù hợp với trẻ nhỏ,Không hú...</td>\n",
       "    </tr>\n",
       "    <tr>\n",
       "      <td>2</td>\n",
       "      <td>https://www.luxstay.com/vi/rooms/15456</td>\n",
       "      <td>Maika Condotel - Triple Bedroom</td>\n",
       "      <td>Căn hộ chung cư</td>\n",
       "      <td>110 m2</td>\n",
       "      <td>Nguyên căn · 2 phòng tắm · 3 giường · 3 phòng ...</td>\n",
       "      <td>2,750,000₫ /đêm</td>\n",
       "      <td>Đà Lạt, Lâm Đồng, Vietnam</td>\n",
       "      <td>Tiện ích gia đình,Phù hợp với trẻ nhỏ,Tiện ích...</td>\n",
       "    </tr>\n",
       "    <tr>\n",
       "      <td>3</td>\n",
       "      <td>https://www.luxstay.com/vi/rooms/18878</td>\n",
       "      <td>Vườn đom đóm Đà Lạt- Phòng đơn hướng vườn rộng...</td>\n",
       "      <td>Nhà riêng</td>\n",
       "      <td>12 m2</td>\n",
       "      <td>Phòng riêng · 3 phòng tắm · 1 giường · 1 phòng...</td>\n",
       "      <td>370,000₫ /đêm</td>\n",
       "      <td>Đà Lạt, Lâm Đồng, Vietnam</td>\n",
       "      <td>Tiện ích gia đình,Không hút thuốc,Tiện ích bếp...</td>\n",
       "    </tr>\n",
       "    <tr>\n",
       "      <td>4</td>\n",
       "      <td>https://www.luxstay.com/vi/rooms/15377</td>\n",
       "      <td>Rebeka's Home 1 - Góc vườn nhỏ tĩnh lặng trước...</td>\n",
       "      <td>Nhà riêng</td>\n",
       "      <td>15 m2</td>\n",
       "      <td>Phòng riêng · 1 phòng tắm · 1 giường · 1 phòng...</td>\n",
       "      <td>350,000₫ /đêm</td>\n",
       "      <td>Đà Lạt, Lâm Đồng, Vietnam</td>\n",
       "      <td>Tiện ích gia đình,Phù hợp với trẻ nhỏ,Tiện ích...</td>\n",
       "    </tr>\n",
       "  </tbody>\n",
       "</table>\n",
       "</div>"
      ],
      "text/plain": [
       "                                     Link  \\\n",
       "0  https://www.luxstay.com/vi/rooms/13967   \n",
       "1  https://www.luxstay.com/vi/rooms/33714   \n",
       "2  https://www.luxstay.com/vi/rooms/15456   \n",
       "3  https://www.luxstay.com/vi/rooms/18878   \n",
       "4  https://www.luxstay.com/vi/rooms/15377   \n",
       "\n",
       "                                                 Tên         Loại nhà  \\\n",
       "0  JOLIE HOUSE - BIỆT THỰ HƯỚNG RA VƯỜN - CÁCH TR...         Biệt Thự   \n",
       "1                   Gold&Ruby House- Phòng Quadruple   Căn hộ dịch vụ   \n",
       "2                    Maika Condotel - Triple Bedroom  Căn hộ chung cư   \n",
       "3  Vườn đom đóm Đà Lạt- Phòng đơn hướng vườn rộng...        Nhà riêng   \n",
       "4  Rebeka's Home 1 - Góc vườn nhỏ tĩnh lặng trước...        Nhà riêng   \n",
       "\n",
       "  Diện tích                                     Các loại phòng  \\\n",
       "0    100 m2  Nguyên căn · 5 phòng tắm · 6 giường · 4 phòng ...   \n",
       "1     20 m2  Phòng riêng · 1 phòng tắm · 2 giường · 1 phòng...   \n",
       "2    110 m2  Nguyên căn · 2 phòng tắm · 3 giường · 3 phòng ...   \n",
       "3     12 m2  Phòng riêng · 3 phòng tắm · 1 giường · 1 phòng...   \n",
       "4     15 m2  Phòng riêng · 1 phòng tắm · 1 giường · 1 phòng...   \n",
       "\n",
       "               Giá                     Vị trí  \\\n",
       "0  2,887,500₫ /đêm  Đà Lạt, Lâm Đồng, Vietnam   \n",
       "1    600,000₫ /đêm  Đà Lạt, Lâm Đồng, Vietnam   \n",
       "2  2,750,000₫ /đêm  Đà Lạt, Lâm Đồng, Vietnam   \n",
       "3    370,000₫ /đêm  Đà Lạt, Lâm Đồng, Vietnam   \n",
       "4    350,000₫ /đêm  Đà Lạt, Lâm Đồng, Vietnam   \n",
       "\n",
       "                                            Tiện ích  \n",
       "0                                                NaN  \n",
       "1  Tiện ích gia đình,Phù hợp với trẻ nhỏ,Không hú...  \n",
       "2  Tiện ích gia đình,Phù hợp với trẻ nhỏ,Tiện ích...  \n",
       "3  Tiện ích gia đình,Không hút thuốc,Tiện ích bếp...  \n",
       "4  Tiện ích gia đình,Phù hợp với trẻ nhỏ,Tiện ích...  "
      ]
     },
     "execution_count": 2,
     "metadata": {},
     "output_type": "execute_result"
    }
   ],
   "source": [
    "df = pd.read_csv(\"data.csv\", sep='\\t')\n",
    "df.head()"
   ]
  },
  {
   "cell_type": "markdown",
   "metadata": {},
   "source": [
    "# Chỉnh sửa dữ liệu\n",
    "Trước tiên ta cần format lại data để tiện làm việc hơn"
   ]
  },
  {
   "cell_type": "markdown",
   "metadata": {},
   "source": [
    "## Đặt lại tên các cột để thuận tiện trong việc truy cập"
   ]
  },
  {
   "cell_type": "code",
   "execution_count": 3,
   "metadata": {
    "scrolled": true
   },
   "outputs": [
    {
     "data": {
      "text/html": [
       "<div>\n",
       "<style scoped>\n",
       "    .dataframe tbody tr th:only-of-type {\n",
       "        vertical-align: middle;\n",
       "    }\n",
       "\n",
       "    .dataframe tbody tr th {\n",
       "        vertical-align: top;\n",
       "    }\n",
       "\n",
       "    .dataframe thead th {\n",
       "        text-align: right;\n",
       "    }\n",
       "</style>\n",
       "<table border=\"1\" class=\"dataframe\">\n",
       "  <thead>\n",
       "    <tr style=\"text-align: right;\">\n",
       "      <th></th>\n",
       "      <th>link</th>\n",
       "      <th>name</th>\n",
       "      <th>type</th>\n",
       "      <th>area</th>\n",
       "      <th>room_types</th>\n",
       "      <th>price</th>\n",
       "      <th>location</th>\n",
       "      <th>other</th>\n",
       "    </tr>\n",
       "  </thead>\n",
       "  <tbody>\n",
       "    <tr>\n",
       "      <td>0</td>\n",
       "      <td>https://www.luxstay.com/vi/rooms/13967</td>\n",
       "      <td>JOLIE HOUSE - BIỆT THỰ HƯỚNG RA VƯỜN - CÁCH TR...</td>\n",
       "      <td>Biệt Thự</td>\n",
       "      <td>100 m2</td>\n",
       "      <td>Nguyên căn · 5 phòng tắm · 6 giường · 4 phòng ...</td>\n",
       "      <td>2,887,500₫ /đêm</td>\n",
       "      <td>Đà Lạt, Lâm Đồng, Vietnam</td>\n",
       "      <td>NaN</td>\n",
       "    </tr>\n",
       "    <tr>\n",
       "      <td>1</td>\n",
       "      <td>https://www.luxstay.com/vi/rooms/33714</td>\n",
       "      <td>Gold&amp;Ruby House- Phòng Quadruple</td>\n",
       "      <td>Căn hộ dịch vụ</td>\n",
       "      <td>20 m2</td>\n",
       "      <td>Phòng riêng · 1 phòng tắm · 2 giường · 1 phòng...</td>\n",
       "      <td>600,000₫ /đêm</td>\n",
       "      <td>Đà Lạt, Lâm Đồng, Vietnam</td>\n",
       "      <td>Tiện ích gia đình,Phù hợp với trẻ nhỏ,Không hú...</td>\n",
       "    </tr>\n",
       "    <tr>\n",
       "      <td>2</td>\n",
       "      <td>https://www.luxstay.com/vi/rooms/15456</td>\n",
       "      <td>Maika Condotel - Triple Bedroom</td>\n",
       "      <td>Căn hộ chung cư</td>\n",
       "      <td>110 m2</td>\n",
       "      <td>Nguyên căn · 2 phòng tắm · 3 giường · 3 phòng ...</td>\n",
       "      <td>2,750,000₫ /đêm</td>\n",
       "      <td>Đà Lạt, Lâm Đồng, Vietnam</td>\n",
       "      <td>Tiện ích gia đình,Phù hợp với trẻ nhỏ,Tiện ích...</td>\n",
       "    </tr>\n",
       "    <tr>\n",
       "      <td>3</td>\n",
       "      <td>https://www.luxstay.com/vi/rooms/18878</td>\n",
       "      <td>Vườn đom đóm Đà Lạt- Phòng đơn hướng vườn rộng...</td>\n",
       "      <td>Nhà riêng</td>\n",
       "      <td>12 m2</td>\n",
       "      <td>Phòng riêng · 3 phòng tắm · 1 giường · 1 phòng...</td>\n",
       "      <td>370,000₫ /đêm</td>\n",
       "      <td>Đà Lạt, Lâm Đồng, Vietnam</td>\n",
       "      <td>Tiện ích gia đình,Không hút thuốc,Tiện ích bếp...</td>\n",
       "    </tr>\n",
       "    <tr>\n",
       "      <td>4</td>\n",
       "      <td>https://www.luxstay.com/vi/rooms/15377</td>\n",
       "      <td>Rebeka's Home 1 - Góc vườn nhỏ tĩnh lặng trước...</td>\n",
       "      <td>Nhà riêng</td>\n",
       "      <td>15 m2</td>\n",
       "      <td>Phòng riêng · 1 phòng tắm · 1 giường · 1 phòng...</td>\n",
       "      <td>350,000₫ /đêm</td>\n",
       "      <td>Đà Lạt, Lâm Đồng, Vietnam</td>\n",
       "      <td>Tiện ích gia đình,Phù hợp với trẻ nhỏ,Tiện ích...</td>\n",
       "    </tr>\n",
       "  </tbody>\n",
       "</table>\n",
       "</div>"
      ],
      "text/plain": [
       "                                     link  \\\n",
       "0  https://www.luxstay.com/vi/rooms/13967   \n",
       "1  https://www.luxstay.com/vi/rooms/33714   \n",
       "2  https://www.luxstay.com/vi/rooms/15456   \n",
       "3  https://www.luxstay.com/vi/rooms/18878   \n",
       "4  https://www.luxstay.com/vi/rooms/15377   \n",
       "\n",
       "                                                name             type    area  \\\n",
       "0  JOLIE HOUSE - BIỆT THỰ HƯỚNG RA VƯỜN - CÁCH TR...         Biệt Thự  100 m2   \n",
       "1                   Gold&Ruby House- Phòng Quadruple   Căn hộ dịch vụ   20 m2   \n",
       "2                    Maika Condotel - Triple Bedroom  Căn hộ chung cư  110 m2   \n",
       "3  Vườn đom đóm Đà Lạt- Phòng đơn hướng vườn rộng...        Nhà riêng   12 m2   \n",
       "4  Rebeka's Home 1 - Góc vườn nhỏ tĩnh lặng trước...        Nhà riêng   15 m2   \n",
       "\n",
       "                                          room_types            price  \\\n",
       "0  Nguyên căn · 5 phòng tắm · 6 giường · 4 phòng ...  2,887,500₫ /đêm   \n",
       "1  Phòng riêng · 1 phòng tắm · 2 giường · 1 phòng...    600,000₫ /đêm   \n",
       "2  Nguyên căn · 2 phòng tắm · 3 giường · 3 phòng ...  2,750,000₫ /đêm   \n",
       "3  Phòng riêng · 3 phòng tắm · 1 giường · 1 phòng...    370,000₫ /đêm   \n",
       "4  Phòng riêng · 1 phòng tắm · 1 giường · 1 phòng...    350,000₫ /đêm   \n",
       "\n",
       "                    location  \\\n",
       "0  Đà Lạt, Lâm Đồng, Vietnam   \n",
       "1  Đà Lạt, Lâm Đồng, Vietnam   \n",
       "2  Đà Lạt, Lâm Đồng, Vietnam   \n",
       "3  Đà Lạt, Lâm Đồng, Vietnam   \n",
       "4  Đà Lạt, Lâm Đồng, Vietnam   \n",
       "\n",
       "                                               other  \n",
       "0                                                NaN  \n",
       "1  Tiện ích gia đình,Phù hợp với trẻ nhỏ,Không hú...  \n",
       "2  Tiện ích gia đình,Phù hợp với trẻ nhỏ,Tiện ích...  \n",
       "3  Tiện ích gia đình,Không hút thuốc,Tiện ích bếp...  \n",
       "4  Tiện ích gia đình,Phù hợp với trẻ nhỏ,Tiện ích...  "
      ]
     },
     "execution_count": 3,
     "metadata": {},
     "output_type": "execute_result"
    }
   ],
   "source": [
    "df.columns = [\"link\", \"name\", \"type\", \"area\", \"room_types\", \"price\", \"location\", \"other\"]\n",
    "df.head()"
   ]
  },
  {
   "cell_type": "markdown",
   "metadata": {},
   "source": [
    "## Chỉnh sửa kiểu dữ liệu của các thuộc tính"
   ]
  },
  {
   "cell_type": "markdown",
   "metadata": {},
   "source": [
    "Trước tiên ta xem xét kiểu dữ liệu của các cột trong dữ liệu:"
   ]
  },
  {
   "cell_type": "code",
   "execution_count": 4,
   "metadata": {},
   "outputs": [
    {
     "data": {
      "text/plain": [
       "link          object\n",
       "name          object\n",
       "type          object\n",
       "area          object\n",
       "room_types    object\n",
       "price         object\n",
       "location      object\n",
       "other         object\n",
       "dtype: object"
      ]
     },
     "execution_count": 4,
     "metadata": {},
     "output_type": "execute_result"
    }
   ],
   "source": [
    "df.dtypes"
   ]
  },
  {
   "cell_type": "markdown",
   "metadata": {},
   "source": [
    "Có thể thấy kiểu dữ liệu của tất cả các cột đều là \"object\". Tuy nhiên, để có thể áp dụng các thuật toán máy học lên dữ liệu, ta cần đưa dữ liệu của một số thuộc tính về dạng số. Cụ thể, trước tiên ta sẽ format lại kiểu dữ liệu của các thuộc tính \"type\", \"area\" và \"price\""
   ]
  },
  {
   "cell_type": "markdown",
   "metadata": {},
   "source": [
    "### Type"
   ]
  },
  {
   "cell_type": "markdown",
   "metadata": {},
   "source": [
    "\"Type\" là loại phòng. Ta có thể chuyển đổi thuộc tính này sang dạng sô bằng cách gán một id riêng biệt cho mỗi loại phòng.\n",
    "\n",
    "Đầu tiên, ta xem số lượng phòng khác nhau:"
   ]
  },
  {
   "cell_type": "code",
   "execution_count": 5,
   "metadata": {},
   "outputs": [
    {
     "data": {
      "text/plain": [
       "count                7491\n",
       "unique                 10\n",
       "top       Căn hộ chung cư\n",
       "freq                 2070\n",
       "Name: type, dtype: object"
      ]
     },
     "execution_count": 5,
     "metadata": {},
     "output_type": "execute_result"
    }
   ],
   "source": [
    "df[\"type\"].describe()"
   ]
  },
  {
   "cell_type": "markdown",
   "metadata": {},
   "source": [
    "Như vậy, ta có 10 loại phòng và loại phòng xuất hiện nhiều nhất là \"Căn hộ chung cư\"\n",
    "\n",
    "Kế đến, ta đếm số lượng môi loại phòng:"
   ]
  },
  {
   "cell_type": "code",
   "execution_count": 6,
   "metadata": {},
   "outputs": [
    {
     "data": {
      "text/plain": [
       "Căn hộ chung cư                                                                                                                                                                                                   2070\n",
       "Căn hộ dịch vụ                                                                                                                                                                                                    1781\n",
       "Nhà riêng                                                                                                                                                                                                         1614\n",
       "Căn hộ Studio                                                                                                                                                                                                      955\n",
       "Khác                                                                                                                                                                                                               558\n",
       "Biệt Thự                                                                                                                                                                                                           509\n",
       "3 phòng tắm · 7 giường · 6 phòng ngủ · 14 khách (tối đa 20 khách)                                                                                                                                                    1\n",
       "1 phòng tắm · 1 giường · 1 phòng ngủ · 2 khách (tối đa 2 khách)                                                                                                                                                      1\n",
       "- Tiwala Homestay - Tropical Room cung cấp cho bạn đầy đủ những tiện nghi hiện đại bậc nhất                                                                                                                          1\n",
       "LALA HOMEnằm cuối đường Phan Đình Phùng chỉ cách trung tâm thành phố Đà Lạt 1.5 km. Thậtdễ dàng để đến các điểm ăn uống đặc sản cũng như địa điểm tham quan nổi tiếngcủa thành phố Đà Lạt chỉ trong 5-10 phút.       1\n",
       "Name: type, dtype: int64"
      ]
     },
     "execution_count": 6,
     "metadata": {},
     "output_type": "execute_result"
    }
   ],
   "source": [
    "df[\"type\"].value_counts()"
   ]
  },
  {
   "cell_type": "markdown",
   "metadata": {},
   "source": [
    "Có thể thấy trong 10 loại phòng trên thì chỉ có 6 loại phòng là đúng với thực tế, còn lại là các giá trị lỗi sinh ra trong quá trình thu thập dữ liệu. Ta sẽ tiến hành loại các giá trị lỗi đó trước:"
   ]
  },
  {
   "cell_type": "code",
   "execution_count": 7,
   "metadata": {},
   "outputs": [
    {
     "data": {
      "text/plain": [
       "['Căn hộ chung cư',\n",
       " 'Căn hộ dịch vụ',\n",
       " 'Nhà riêng',\n",
       " 'Căn hộ Studio',\n",
       " 'Khác',\n",
       " 'Biệt Thự']"
      ]
     },
     "execution_count": 7,
     "metadata": {},
     "output_type": "execute_result"
    }
   ],
   "source": [
    "counts = dict(df[\"type\"].value_counts())\n",
    "real_types = list(df[\"type\"].value_counts().keys())\n",
    "real_types = [x for x in real_types if counts[x] > 1]\n",
    "real_types"
   ]
  },
  {
   "cell_type": "code",
   "execution_count": 8,
   "metadata": {},
   "outputs": [],
   "source": [
    "df = df[df[\"type\"].apply(lambda x: x in real_types)]"
   ]
  },
  {
   "cell_type": "markdown",
   "metadata": {},
   "source": [
    "Kiểm tra lại ta sẽ thấy các giá trị lỗi đã bị loại bỏ:"
   ]
  },
  {
   "cell_type": "code",
   "execution_count": 9,
   "metadata": {},
   "outputs": [
    {
     "data": {
      "text/plain": [
       "Căn hộ chung cư    2070\n",
       "Căn hộ dịch vụ     1781\n",
       "Nhà riêng          1614\n",
       "Căn hộ Studio       955\n",
       "Khác                558\n",
       "Biệt Thự            509\n",
       "Name: type, dtype: int64"
      ]
     },
     "execution_count": 9,
     "metadata": {},
     "output_type": "execute_result"
    }
   ],
   "source": [
    "df[\"type\"].value_counts()"
   ]
  },
  {
   "cell_type": "code",
   "execution_count": 10,
   "metadata": {},
   "outputs": [
    {
     "data": {
      "image/png": "[encoded data removed]",
      "text/plain": [
       "<Figure size 648x288 with 1 Axes>"
      ]
     },
     "metadata": {
      "needs_background": "light"
     },
     "output_type": "display_data"
    }
   ],
   "source": [
    "fig = plt.figure(figsize=(9, 4))\n",
    "sns.countplot(x=\"type\", data=df)\n",
    "plt.show()"
   ]
  },
  {
   "cell_type": "markdown",
   "metadata": {},
   "source": [
    "Để thuận lợi cho việc tra cứu lại, ta sẽ tạo một <i>dictionary</i> lưu lại việc mapping các loại phòng thành các id:"
   ]
  },
  {
   "cell_type": "code",
   "execution_count": 11,
   "metadata": {},
   "outputs": [
    {
     "data": {
      "text/plain": [
       "{'Căn hộ chung cư': 0,\n",
       " 'Căn hộ dịch vụ': 1,\n",
       " 'Nhà riêng': 2,\n",
       " 'Căn hộ Studio': 3,\n",
       " 'Khác': 4,\n",
       " 'Biệt Thự': 5}"
      ]
     },
     "execution_count": 11,
     "metadata": {},
     "output_type": "execute_result"
    }
   ],
   "source": [
    "type_id = {}\n",
    "for x in range(len(real_types)):\n",
    "    type_id[real_types[x]] = x\n",
    "type_id"
   ]
  },
  {
   "cell_type": "markdown",
   "metadata": {},
   "source": [
    "Map các loại phòng thành các giá trị số và kiểm tra lại:"
   ]
  },
  {
   "cell_type": "code",
   "execution_count": 12,
   "metadata": {},
   "outputs": [],
   "source": [
    "df[\"type\"] = df[\"type\"].apply(lambda x: type_id[x])"
   ]
  },
  {
   "cell_type": "code",
   "execution_count": 13,
   "metadata": {},
   "outputs": [
    {
     "data": {
      "image/png": "[encoded data removed]",
      "text/plain": [
       "<Figure size 648x288 with 1 Axes>"
      ]
     },
     "metadata": {
      "needs_background": "light"
     },
     "output_type": "display_data"
    }
   ],
   "source": [
    "fig = plt.figure(figsize=(9, 4))\n",
    "sns.countplot(x=\"type\", data=df)\n",
    "plt.show()"
   ]
  },
  {
   "cell_type": "markdown",
   "metadata": {},
   "source": [
    "Kiểm tra lại và ta sẽ thấy kiểu dữ liệu của \"type\" đã được chuyển sang dạng int64"
   ]
  },
  {
   "cell_type": "code",
   "execution_count": 14,
   "metadata": {},
   "outputs": [
    {
     "data": {
      "text/plain": [
       "link          object\n",
       "name          object\n",
       "type           int64\n",
       "area          object\n",
       "room_types    object\n",
       "price         object\n",
       "location      object\n",
       "other         object\n",
       "dtype: object"
      ]
     },
     "execution_count": 14,
     "metadata": {},
     "output_type": "execute_result"
    }
   ],
   "source": [
    "df.dtypes"
   ]
  },
  {
   "cell_type": "markdown",
   "metadata": {},
   "source": [
    "### Area"
   ]
  },
  {
   "cell_type": "markdown",
   "metadata": {},
   "source": [
    "Dựa vào quan sát, ta thấy chỉ cần loại \"m2\" trong các giá trị của thuộc tính là đủ"
   ]
  },
  {
   "cell_type": "code",
   "execution_count": 15,
   "metadata": {},
   "outputs": [
    {
     "data": {
      "text/plain": [
       "0       100.0\n",
       "1        20.0\n",
       "2       110.0\n",
       "3        12.0\n",
       "4        15.0\n",
       "        ...  \n",
       "7502     35.0\n",
       "7503     25.0\n",
       "7504     49.0\n",
       "7505     70.0\n",
       "7506     25.0\n",
       "Name: area, Length: 7487, dtype: float64"
      ]
     },
     "execution_count": 15,
     "metadata": {},
     "output_type": "execute_result"
    }
   ],
   "source": [
    "new_area = df[\"area\"].apply(lambda x: float(str(x).split(' ')[0]))\n",
    "df[\"area\"] = new_area\n",
    "new_area"
   ]
  },
  {
   "cell_type": "markdown",
   "metadata": {},
   "source": [
    "Sau đó kiểm tra lại kiểu dữ liệu của \"area\":"
   ]
  },
  {
   "cell_type": "code",
   "execution_count": 24,
   "metadata": {},
   "outputs": [
    {
     "data": {
      "text/plain": [
       "count     7366.000000\n",
       "mean        76.321700\n",
       "std        230.358698\n",
       "min          2.000000\n",
       "25%         25.000000\n",
       "50%         40.000000\n",
       "75%         74.000000\n",
       "max      10000.000000\n",
       "Name: area, dtype: float64"
      ]
     },
     "execution_count": 24,
     "metadata": {},
     "output_type": "execute_result"
    }
   ],
   "source": [
    "df[\"area\"].describe()"
   ]
  },
  {
   "cell_type": "markdown",
   "metadata": {},
   "source": [
    "### Price"
   ]
  },
  {
   "cell_type": "markdown",
   "metadata": {},
   "source": [
    "Ta sử dụng regular regression để lọc ra giá tiền:"
   ]
  },
  {
   "cell_type": "code",
   "execution_count": 21,
   "metadata": {},
   "outputs": [],
   "source": [
    "new_price = df[\"price\"].apply(lambda x: re.search(\"[0-9,]*\", str(x)).group().replace(',', ''))\n",
    "new_price = new_price.apply(lambda x: float(x) if x != \"\" else float('nan'))\n",
    "df[\"price\"] = new_price"
   ]
  },
  {
   "cell_type": "markdown",
   "metadata": {},
   "source": [
    "Sau đó kiểm tra lại kiểu dữ liệu của \"price\":"
   ]
  },
  {
   "cell_type": "code",
   "execution_count": 23,
   "metadata": {},
   "outputs": [
    {
     "data": {
      "text/plain": [
       "count    7.486000e+03\n",
       "mean     1.268999e+06\n",
       "std      1.398777e+06\n",
       "min      7.500000e+04\n",
       "25%      5.500000e+05\n",
       "50%      8.500000e+05\n",
       "75%      1.500000e+06\n",
       "max      3.024000e+07\n",
       "Name: price, dtype: float64"
      ]
     },
     "execution_count": 23,
     "metadata": {},
     "output_type": "execute_result"
    }
   ],
   "source": [
    "df[\"price\"].describe()"
   ]
  },
  {
   "cell_type": "markdown",
   "metadata": {},
   "source": [
    "## Chọn lựa thuộc tính và tiền xử lý dữ liệu\n",
    "Ta sẽ tìm hiểu và chọn ra các thuộc tính có ích để áp dụng máy học, đồng thời đưa dữ liệu về dạng giàu thông tin hơn"
   ]
  },
  {
   "cell_type": "markdown",
   "metadata": {},
   "source": [
    "Trước tiên, ta tạo một hàm để đếm số mẫu dữ liệu bị thiếu đối với một thuộc tính:"
   ]
  },
  {
   "cell_type": "code",
   "execution_count": 26,
   "metadata": {},
   "outputs": [],
   "source": [
    "def count_missing(df, col):\n",
    "    print(col, df[col].isnull().sum())"
   ]
  },
  {
   "cell_type": "markdown",
   "metadata": {},
   "source": [
    "### link\n",
    "Ta dễ dàng thấy đường dẫn của một phòng cho thuê không hề liên quan đến giá của phòng đó, do đó ta chỉ đơn giản bỏ thuộc tính đó"
   ]
  },
  {
   "cell_type": "code",
   "execution_count": 29,
   "metadata": {},
   "outputs": [
    {
     "data": {
      "text/html": [
       "<div>\n",
       "<style scoped>\n",
       "    .dataframe tbody tr th:only-of-type {\n",
       "        vertical-align: middle;\n",
       "    }\n",
       "\n",
       "    .dataframe tbody tr th {\n",
       "        vertical-align: top;\n",
       "    }\n",
       "\n",
       "    .dataframe thead th {\n",
       "        text-align: right;\n",
       "    }\n",
       "</style>\n",
       "<table border=\"1\" class=\"dataframe\">\n",
       "  <thead>\n",
       "    <tr style=\"text-align: right;\">\n",
       "      <th></th>\n",
       "      <th>name</th>\n",
       "      <th>type</th>\n",
       "      <th>area</th>\n",
       "      <th>room_types</th>\n",
       "      <th>price</th>\n",
       "      <th>location</th>\n",
       "      <th>other</th>\n",
       "    </tr>\n",
       "  </thead>\n",
       "  <tbody>\n",
       "    <tr>\n",
       "      <td>0</td>\n",
       "      <td>JOLIE HOUSE - BIỆT THỰ HƯỚNG RA VƯỜN - CÁCH TR...</td>\n",
       "      <td>5</td>\n",
       "      <td>100.0</td>\n",
       "      <td>Nguyên căn · 5 phòng tắm · 6 giường · 4 phòng ...</td>\n",
       "      <td>2887500.0</td>\n",
       "      <td>Đà Lạt, Lâm Đồng, Vietnam</td>\n",
       "      <td>NaN</td>\n",
       "    </tr>\n",
       "    <tr>\n",
       "      <td>1</td>\n",
       "      <td>Gold&amp;Ruby House- Phòng Quadruple</td>\n",
       "      <td>1</td>\n",
       "      <td>20.0</td>\n",
       "      <td>Phòng riêng · 1 phòng tắm · 2 giường · 1 phòng...</td>\n",
       "      <td>600000.0</td>\n",
       "      <td>Đà Lạt, Lâm Đồng, Vietnam</td>\n",
       "      <td>Tiện ích gia đình,Phù hợp với trẻ nhỏ,Không hú...</td>\n",
       "    </tr>\n",
       "    <tr>\n",
       "      <td>2</td>\n",
       "      <td>Maika Condotel - Triple Bedroom</td>\n",
       "      <td>0</td>\n",
       "      <td>110.0</td>\n",
       "      <td>Nguyên căn · 2 phòng tắm · 3 giường · 3 phòng ...</td>\n",
       "      <td>2750000.0</td>\n",
       "      <td>Đà Lạt, Lâm Đồng, Vietnam</td>\n",
       "      <td>Tiện ích gia đình,Phù hợp với trẻ nhỏ,Tiện ích...</td>\n",
       "    </tr>\n",
       "    <tr>\n",
       "      <td>3</td>\n",
       "      <td>Vườn đom đóm Đà Lạt- Phòng đơn hướng vườn rộng...</td>\n",
       "      <td>2</td>\n",
       "      <td>12.0</td>\n",
       "      <td>Phòng riêng · 3 phòng tắm · 1 giường · 1 phòng...</td>\n",
       "      <td>370000.0</td>\n",
       "      <td>Đà Lạt, Lâm Đồng, Vietnam</td>\n",
       "      <td>Tiện ích gia đình,Không hút thuốc,Tiện ích bếp...</td>\n",
       "    </tr>\n",
       "    <tr>\n",
       "      <td>4</td>\n",
       "      <td>Rebeka's Home 1 - Góc vườn nhỏ tĩnh lặng trước...</td>\n",
       "      <td>2</td>\n",
       "      <td>15.0</td>\n",
       "      <td>Phòng riêng · 1 phòng tắm · 1 giường · 1 phòng...</td>\n",
       "      <td>350000.0</td>\n",
       "      <td>Đà Lạt, Lâm Đồng, Vietnam</td>\n",
       "      <td>Tiện ích gia đình,Phù hợp với trẻ nhỏ,Tiện ích...</td>\n",
       "    </tr>\n",
       "  </tbody>\n",
       "</table>\n",
       "</div>"
      ],
      "text/plain": [
       "                                                name  type   area  \\\n",
       "0  JOLIE HOUSE - BIỆT THỰ HƯỚNG RA VƯỜN - CÁCH TR...     5  100.0   \n",
       "1                   Gold&Ruby House- Phòng Quadruple     1   20.0   \n",
       "2                    Maika Condotel - Triple Bedroom     0  110.0   \n",
       "3  Vườn đom đóm Đà Lạt- Phòng đơn hướng vườn rộng...     2   12.0   \n",
       "4  Rebeka's Home 1 - Góc vườn nhỏ tĩnh lặng trước...     2   15.0   \n",
       "\n",
       "                                          room_types      price  \\\n",
       "0  Nguyên căn · 5 phòng tắm · 6 giường · 4 phòng ...  2887500.0   \n",
       "1  Phòng riêng · 1 phòng tắm · 2 giường · 1 phòng...   600000.0   \n",
       "2  Nguyên căn · 2 phòng tắm · 3 giường · 3 phòng ...  2750000.0   \n",
       "3  Phòng riêng · 3 phòng tắm · 1 giường · 1 phòng...   370000.0   \n",
       "4  Phòng riêng · 1 phòng tắm · 1 giường · 1 phòng...   350000.0   \n",
       "\n",
       "                    location  \\\n",
       "0  Đà Lạt, Lâm Đồng, Vietnam   \n",
       "1  Đà Lạt, Lâm Đồng, Vietnam   \n",
       "2  Đà Lạt, Lâm Đồng, Vietnam   \n",
       "3  Đà Lạt, Lâm Đồng, Vietnam   \n",
       "4  Đà Lạt, Lâm Đồng, Vietnam   \n",
       "\n",
       "                                               other  \n",
       "0                                                NaN  \n",
       "1  Tiện ích gia đình,Phù hợp với trẻ nhỏ,Không hú...  \n",
       "2  Tiện ích gia đình,Phù hợp với trẻ nhỏ,Tiện ích...  \n",
       "3  Tiện ích gia đình,Không hút thuốc,Tiện ích bếp...  \n",
       "4  Tiện ích gia đình,Phù hợp với trẻ nhỏ,Tiện ích...  "
      ]
     },
     "execution_count": 29,
     "metadata": {},
     "output_type": "execute_result"
    }
   ],
   "source": [
    "df = df.drop(\"link\",axis=1)\n",
    "df.head()"
   ]
  },
  {
   "cell_type": "markdown",
   "metadata": {},
   "source": [
    "### type\n",
    "Đầu tiên, ta kiểm tra số mẫu dữ liệu bị thiếu:"
   ]
  },
  {
   "cell_type": "code",
   "execution_count": 37,
   "metadata": {},
   "outputs": [
    {
     "name": "stdout",
     "output_type": "stream",
     "text": [
      "type 0\n"
     ]
    }
   ],
   "source": [
    "count_missing(df, \"type\")"
   ]
  },
  {
   "cell_type": "markdown",
   "metadata": {},
   "source": [
    "Như vậy, thuộc tính \"type\" không có dữ liệu thiếu. Ta tiếp tục xem xét mối quan hệ giữa loại phòng và giá phòng:"
   ]
  },
  {
   "cell_type": "code",
   "execution_count": 36,
   "metadata": {},
   "outputs": [
    {
     "data": {
      "image/png": "[encoded data removed]",
      "text/plain": [
       "<Figure size 720x504 with 1 Axes>"
      ]
     },
     "metadata": {
      "needs_background": "light"
     },
     "output_type": "display_data"
    }
   ],
   "source": [
    "fig = plt.figure(figsize=(10,7))\n",
    "sns.boxplot(x=\"type\", y=\"price\", data=df)\n",
    "plt.show()"
   ]
  },
  {
   "cell_type": "markdown",
   "metadata": {},
   "source": [
    "Ta có thể thấy sự ảnh hưởng của loại nhà lên giá tiền. Cụ thể, ta thấy sự ảnh hưởng trên tăng dần với thứ tự 3, 2, 1, 0 và 5. Đặc biệt, loại nhà có id là 5 cho thấy giá của nó cao hơn hẳn so với các loại nhà khác. Xem lại cách đánh số các loại nhà, ta có thứ tự sau: \"Căn hộ studio\" -> \"Nhà riêng\" -> \"Căn hộ dịch vụ\" -> \"Căn hộ chung cư\" -> \"Biệt thự\". Như vậy, ta sẽ đặt giá trị của thuộc tính \"type\" lại sao cho giá trị ấy thể hiện thứ tự này.\n",
    "\n",
    "Đối với loại \"khác\" (4), ta không rõ loại nhà này ảnh hưởng như thế nào đến giá thuê nên ta sẽ đặt một biến riêng để xác định các mẫu với loại phòng này là \"không biết\"."
   ]
  },
  {
   "cell_type": "code",
   "execution_count": 39,
   "metadata": {},
   "outputs": [
    {
     "data": {
      "text/plain": [
       "{'Căn hộ chung cư': 0,\n",
       " 'Căn hộ dịch vụ': 1,\n",
       " 'Nhà riêng': 2,\n",
       " 'Căn hộ Studio': 3,\n",
       " 'Khác': 4,\n",
       " 'Biệt Thự': 5}"
      ]
     },
     "execution_count": 39,
     "metadata": {},
     "output_type": "execute_result"
    }
   ],
   "source": [
    "type_id"
   ]
  },
  {
   "cell_type": "code",
   "execution_count": 43,
   "metadata": {},
   "outputs": [],
   "source": [
    "id_to_type = {}\n",
    "for x in type_id:\n",
    "    id_to_type[type_id[x]] = x\n",
    "new_type_id = {\"Khác\":0, \"Căn hộ Studio\":1, \"Nhà riêng\":2, \"Căn hộ dịch vụ\":3, \"Căn hộ chung cư\":4, \"Biệt Thự\":5}\n",
    "df[\"type\"] = df[\"type\"].apply(lambda x: new_type_id[id_to_type[x]])"
   ]
  },
  {
   "cell_type": "code",
   "execution_count": 45,
   "metadata": {},
   "outputs": [
    {
     "data": {
      "image/png": "[encoded data removed]",
      "text/plain": [
       "<Figure size 720x504 with 1 Axes>"
      ]
     },
     "metadata": {
      "needs_background": "light"
     },
     "output_type": "display_data"
    }
   ],
   "source": [
    "fig = plt.figure(figsize=(10,7))\n",
    "sns.boxplot(x=\"type\", y=\"price\", data=df)\n",
    "plt.show()"
   ]
  }
 ],
 "metadata": {
  "kernelspec": {
   "display_name": "Python 3",
   "language": "python",
   "name": "python3"
  },
  "language_info": {
   "codemirror_mode": {
    "name": "ipython",
    "version": 3
   },
   "file_extension": ".py",
   "mimetype": "text/x-python",
   "name": "python",
   "nbconvert_exporter": "python",
   "pygments_lexer": "ipython3",
   "version": "3.6.9"
  }
 },
 "nbformat": 4,
 "nbformat_minor": 2
}
