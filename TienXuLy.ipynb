{
 "cells": [
  {
   "cell_type": "markdown",
   "metadata": {},
   "source": [
    "# Import thư viện cần thiết"
   ]
  },
  {
   "cell_type": "code",
   "execution_count": 1,
   "metadata": {},
   "outputs": [],
   "source": [
    "from requests_html import HTMLSession\n",
    "from requests_html import HTML\n",
    "from selenium import webdriver\n",
    "from selenium.webdriver.common.keys import Keys\n",
    "import time\n",
    "import csv\n",
    "import re\n",
    "import numpy as np\n",
    "import pandas as pd"
   ]
  },
  {
   "cell_type": "code",
   "execution_count": 15,
   "metadata": {},
   "outputs": [
    {
     "data": {
      "text/html": [
       "<div>\n",
       "<style scoped>\n",
       "    .dataframe tbody tr th:only-of-type {\n",
       "        vertical-align: middle;\n",
       "    }\n",
       "\n",
       "    .dataframe tbody tr th {\n",
       "        vertical-align: top;\n",
       "    }\n",
       "\n",
       "    .dataframe thead th {\n",
       "        text-align: right;\n",
       "    }\n",
       "</style>\n",
       "<table border=\"1\" class=\"dataframe\">\n",
       "  <thead>\n",
       "    <tr style=\"text-align: right;\">\n",
       "      <th></th>\n",
       "      <th>link</th>\n",
       "      <th>name</th>\n",
       "      <th>type</th>\n",
       "      <th>area</th>\n",
       "      <th>room_types</th>\n",
       "      <th>price</th>\n",
       "      <th>location</th>\n",
       "      <th>other</th>\n",
       "    </tr>\n",
       "  </thead>\n",
       "  <tbody>\n",
       "    <tr>\n",
       "      <td>0</td>\n",
       "      <td>https://www.luxstay.com/vi/rooms/13967</td>\n",
       "      <td>JOLIE HOUSE - BIỆT THỰ HƯỚNG RA VƯỜN - CÁCH TR...</td>\n",
       "      <td>Biệt Thự</td>\n",
       "      <td>100 m2</td>\n",
       "      <td>Nguyên căn · 5 phòng tắm · 6 giường · 4 phòng ...</td>\n",
       "      <td>2,887,500₫ /đêm</td>\n",
       "      <td>Đà Lạt, Lâm Đồng, Vietnam</td>\n",
       "      <td>Tiện ích gia đình,Phù hợp với trẻ nhỏ,Đệm bổ s...</td>\n",
       "    </tr>\n",
       "    <tr>\n",
       "      <td>1</td>\n",
       "      <td>https://www.luxstay.com/vi/rooms/33714</td>\n",
       "      <td>Gold&amp;Ruby House- Phòng Quadruple</td>\n",
       "      <td>Căn hộ dịch vụ</td>\n",
       "      <td>20 m2</td>\n",
       "      <td>Phòng riêng · 1 phòng tắm · 2 giường · 1 phòng...</td>\n",
       "      <td>600,000₫ /đêm</td>\n",
       "      <td>Đà Lạt, Lâm Đồng, Vietnam</td>\n",
       "      <td>Tiện ích gia đình,Phù hợp với trẻ nhỏ,Không hú...</td>\n",
       "    </tr>\n",
       "    <tr>\n",
       "      <td>2</td>\n",
       "      <td>https://www.luxstay.com/vi/rooms/15456</td>\n",
       "      <td>Maika Condotel - Triple Bedroom</td>\n",
       "      <td>Căn hộ chung cư</td>\n",
       "      <td>110 m2</td>\n",
       "      <td>Nguyên căn · 2 phòng tắm · 3 giường · 3 phòng ...</td>\n",
       "      <td>2,750,000₫ /đêm</td>\n",
       "      <td>Đà Lạt, Lâm Đồng, Vietnam</td>\n",
       "      <td>Tiện ích gia đình,Phù hợp với trẻ nhỏ,Tiện ích...</td>\n",
       "    </tr>\n",
       "    <tr>\n",
       "      <td>3</td>\n",
       "      <td>https://www.luxstay.com/vi/rooms/18878</td>\n",
       "      <td>Vườn đom đóm Đà Lạt- Phòng đơn hướng vườn rộng...</td>\n",
       "      <td>Nhà riêng</td>\n",
       "      <td>12 m2</td>\n",
       "      <td>Phòng riêng · 3 phòng tắm · 1 giường · 1 phòng...</td>\n",
       "      <td>370,000₫ /đêm</td>\n",
       "      <td>Đà Lạt, Lâm Đồng, Vietnam</td>\n",
       "      <td>Tiện ích gia đình,Không hút thuốc,Tiện ích bếp...</td>\n",
       "    </tr>\n",
       "    <tr>\n",
       "      <td>4</td>\n",
       "      <td>https://www.luxstay.com/vi/rooms/15377</td>\n",
       "      <td>Rebeka's Home 1 - Góc vườn nhỏ tĩnh lặng trước...</td>\n",
       "      <td>Nhà riêng</td>\n",
       "      <td>15 m2</td>\n",
       "      <td>Phòng riêng · 1 phòng tắm · 1 giường · 1 phòng...</td>\n",
       "      <td>350,000₫ /đêm</td>\n",
       "      <td>Đà Lạt, Lâm Đồng, Vietnam</td>\n",
       "      <td>Tiện ích gia đình,Phù hợp với trẻ nhỏ,Tiện ích...</td>\n",
       "    </tr>\n",
       "  </tbody>\n",
       "</table>\n",
       "</div>"
      ],
      "text/plain": [
       "                                     link  \\\n",
       "0  https://www.luxstay.com/vi/rooms/13967   \n",
       "1  https://www.luxstay.com/vi/rooms/33714   \n",
       "2  https://www.luxstay.com/vi/rooms/15456   \n",
       "3  https://www.luxstay.com/vi/rooms/18878   \n",
       "4  https://www.luxstay.com/vi/rooms/15377   \n",
       "\n",
       "                                                name             type    area  \\\n",
       "0  JOLIE HOUSE - BIỆT THỰ HƯỚNG RA VƯỜN - CÁCH TR...         Biệt Thự  100 m2   \n",
       "1                   Gold&Ruby House- Phòng Quadruple   Căn hộ dịch vụ   20 m2   \n",
       "2                    Maika Condotel - Triple Bedroom  Căn hộ chung cư  110 m2   \n",
       "3  Vườn đom đóm Đà Lạt- Phòng đơn hướng vườn rộng...        Nhà riêng   12 m2   \n",
       "4  Rebeka's Home 1 - Góc vườn nhỏ tĩnh lặng trước...        Nhà riêng   15 m2   \n",
       "\n",
       "                                          room_types            price  \\\n",
       "0  Nguyên căn · 5 phòng tắm · 6 giường · 4 phòng ...  2,887,500₫ /đêm   \n",
       "1  Phòng riêng · 1 phòng tắm · 2 giường · 1 phòng...    600,000₫ /đêm   \n",
       "2  Nguyên căn · 2 phòng tắm · 3 giường · 3 phòng ...  2,750,000₫ /đêm   \n",
       "3  Phòng riêng · 3 phòng tắm · 1 giường · 1 phòng...    370,000₫ /đêm   \n",
       "4  Phòng riêng · 1 phòng tắm · 1 giường · 1 phòng...    350,000₫ /đêm   \n",
       "\n",
       "                    location  \\\n",
       "0  Đà Lạt, Lâm Đồng, Vietnam   \n",
       "1  Đà Lạt, Lâm Đồng, Vietnam   \n",
       "2  Đà Lạt, Lâm Đồng, Vietnam   \n",
       "3  Đà Lạt, Lâm Đồng, Vietnam   \n",
       "4  Đà Lạt, Lâm Đồng, Vietnam   \n",
       "\n",
       "                                               other  \n",
       "0  Tiện ích gia đình,Phù hợp với trẻ nhỏ,Đệm bổ s...  \n",
       "1  Tiện ích gia đình,Phù hợp với trẻ nhỏ,Không hú...  \n",
       "2  Tiện ích gia đình,Phù hợp với trẻ nhỏ,Tiện ích...  \n",
       "3  Tiện ích gia đình,Không hút thuốc,Tiện ích bếp...  \n",
       "4  Tiện ích gia đình,Phù hợp với trẻ nhỏ,Tiện ích...  "
      ]
     },
     "execution_count": 15,
     "metadata": {},
     "output_type": "execute_result"
    }
   ],
   "source": [
    "df = pd.read_csv(\"raw_data.csv\",sep='\\t')\n",
    "df.columns = [\"link\", \"name\", \"type\", \"area\", \"room_types\", \"price\", \"location\", \"other\"]\n",
    "df.head()"
   ]
  },
  {
   "cell_type": "code",
   "execution_count": 14,
   "metadata": {},
   "outputs": [
    {
     "name": "stdout",
     "output_type": "stream",
     "text": [
      "<class 'pandas.core.frame.DataFrame'>\n",
      "RangeIndex: 7507 entries, 0 to 7506\n",
      "Data columns (total 8 columns):\n",
      "Link              7507 non-null object\n",
      "Tên               7489 non-null object\n",
      "Loại nhà          7491 non-null object\n",
      "Diện tích         7368 non-null object\n",
      "Các loại phòng    7489 non-null object\n",
      "Giá               7488 non-null object\n",
      "Vị trí            7487 non-null object\n",
      "Tiện ích          7373 non-null object\n",
      "dtypes: object(8)\n",
      "memory usage: 469.3+ KB\n"
     ]
    }
   ],
   "source": [
    "rawdata_df.info()"
   ]
  },
  {
   "cell_type": "code",
   "execution_count": null,
   "metadata": {},
   "outputs": [],
   "source": [
    "rawdata_df[:,rawdata_df[]]"
   ]
  }
 ],
 "metadata": {
  "kernelspec": {
   "display_name": "Python 3",
   "language": "python",
   "name": "python3"
  },
  "language_info": {
   "codemirror_mode": {
    "name": "ipython",
    "version": 3
   },
   "file_extension": ".py",
   "mimetype": "text/x-python",
   "name": "python",
   "nbconvert_exporter": "python",
   "pygments_lexer": "ipython3",
   "version": "3.7.3"
  }
 },
 "nbformat": 4,
 "nbformat_minor": 4
}
