{
 "cells": [
  {
   "cell_type": "markdown",
   "metadata": {},
   "source": [
    "# Import thư viện cần thiết"
   ]
  },
  {
   "cell_type": "code",
   "execution_count": null,
   "metadata": {},
   "outputs": [],
   "source": [
    "%matplotlib inline\n",
    "import matplotlib.pyplot as plt\n",
    "import seaborn as sns # seaborn là thư viện được xây trên matplotlib, giúp việc visualization đỡ khổ hơn\n",
    "import pandas as pd\n",
    "import numpy as np\n",
    "import re\n",
    "import unicodedata\n",
    "\n",
    "from sklearn.model_selection import train_test_split\n",
    "from sklearn.preprocessing import OneHotEncoder, StandardScaler\n",
    "from sklearn.impute import SimpleImputer\n",
    "from sklearn.base import BaseEstimator, TransformerMixin\n",
    "from sklearn.pipeline import Pipeline, make_pipeline\n",
    "from sklearn.compose import ColumnTransformer, make_column_transformer\n",
    "from sklearn.neural_network import MLPRegressor\n",
    "from sklearn.impute import KNNImputer\n",
    "# You can also import other things ...\n",
    "# YOUR CODE HERE (OPTION)"
   ]
  },
  {
   "cell_type": "markdown",
   "metadata": {},
   "source": [
    "## Một số xử lý trước khi chia tập train, test"
   ]
  },
  {
   "cell_type": "markdown",
   "metadata": {},
   "source": [
    "#### Đọc file dữ liệu và đổi tên cột"
   ]
  },
  {
   "cell_type": "code",
   "execution_count": null,
   "metadata": {},
   "outputs": [],
   "source": [
    "df = pd.read_csv(\"raw_data3.csv\",sep='\\t')\n",
    "\n",
    "df.columns = [\"link\", \"name\", \"type\", \"area\", \"room_types\", \"price of the week\", \"location\",\"utilities\", \"Weekend prices\"]\n",
    "df.head()"
   ]
  },
  {
   "cell_type": "markdown",
   "metadata": {},
   "source": [
    "#### Do lúc lấy thông tin 1 địa điểm có 2 giá là giá cuối tuần và giá trong tuần. Nghĩa là 1 dòng có đến 2 output, vì vậy ta tiến hành xử lý đưa về 1 output và output này phải là số."
   ]
  },
  {
   "cell_type": "code",
   "execution_count": null,
   "metadata": {},
   "outputs": [],
   "source": [
    "# Bỏ các dòng có giá bằng nan\n",
    "df=df[ pd.isna(df['price of the week'])!=1]\n",
    "\n",
    "# Do thời gian lấy dữ liệu cuối tuần và trong tuần ở 2 thời điểm khác nhau nên một số dữ liệu không còn \n",
    "# vì vậy ta sẽ lấy giá cuối tuần bằng giá trong tuần đối với các giá trị null\n",
    "df['Weekend prices']=df.apply(lambda x:x['price of the week'] if pd.isna(x['Weekend prices']) else x['Weekend prices'],axis=1)\n",
    "\n",
    "# Tiến hành gộp 2 cột về 1 cột\n",
    "df['prices'] = df[['price of the week', 'Weekend prices']].apply(lambda x:[x['price of the week'],x['Weekend prices']], axis=1)\n",
    "df=df.drop(\"price of the week\",axis=1)\n",
    "df=df.drop(\"Weekend prices\",axis=1)\n",
    "df.head()\n",
    "\n",
    "# Thêm 2 cột thể hiện chỗ ở được thuê trong tuần hay cuối tuần\n",
    "df['inweek']=1\n",
    "df['weekend']=0\n",
    "\n",
    "# Tạo 1 dataframe mới giống với df nhưng khác cột trong tuần và cuối tuần\n",
    "temp=df.copy()\n",
    "df['inweek']=0\n",
    "df['weekend']=1\n",
    "\n",
    "# Tiến hành nối 2 dataframe này lại với nhau\n",
    "last_df=pd.concat([df, temp],ignore_index=True)\n",
    "\n",
    "# Thêm một cột hiển thị giá cuối cùng theo trong tuần hay cuối tuần\n",
    "last_df['last_prices']=np.nan\n",
    "last_df['last_prices']=last_df.apply(lambda x: x['prices'][0] if (x['inweek']==1 or x['prices'][1]==np.nan) else x['prices'][1]  ,axis=1)\n",
    "last_df=last_df.drop('prices',axis=1)\n",
    "\n",
    "# Chuyển chuỗi ở cột last_prices thành số\n",
    "last_df['last_prices']=last_df['last_prices'].str.split(\" \").apply(lambda x: x[0][:-1].replace(\",\",\"\"))\n",
    "\n",
    "# Bỏ đi các giá trị không thể chuyển thành số \n",
    "last_df=last_df[last_df['last_prices'].str.isnumeric()]\n",
    "\n",
    "# Chuyển kiểu dữ liệu về số\n",
    "last_df['last_prices'] = pd.to_numeric(last_df['last_prices'])"
   ]
  },
  {
   "cell_type": "code",
   "execution_count": null,
   "metadata": {},
   "outputs": [],
   "source": [
    "last_df.head()"
   ]
  },
  {
   "cell_type": "markdown",
   "metadata": {},
   "source": [
    "#### Tiến hành chia file train và file test"
   ]
  },
  {
   "cell_type": "code",
   "execution_count": null,
   "metadata": {},
   "outputs": [],
   "source": [
    "# y_sr = last_df[\"last_prices\"] # sr là viết tắt của series\n",
    "# X_df = last_df.drop(\"last_prices\", axis=1)\n",
    "\n",
    "# # Tách tập train và tập validation theo tỉ lệ 80%:20%\n",
    "# train_X_df, test_X_df, train_y_sr, test_y_sr = train_test_split(X_df, y_sr, test_size=0.2, random_state=0)\n",
    "\n",
    "# # Ghi X_train xuống file csv\n",
    "# train_X_df.to_csv(\"X_train.csv\",index_label=\"ID\",sep=\"\\t\")\n",
    "\n",
    "# # Ghi y_train xuống file csv\n",
    "# train_y_sr.to_frame('Price').to_csv(\"y_train.csv\",index_label=\"ID\",sep=\"\\t\")\n",
    "\n",
    "# # Ghi X_test xuống file csv\n",
    "# test_X_df.to_csv(\"X_test.csv\",index_label=\"ID\",sep=\"\\t\")\n",
    "\n",
    "# # Ghi y_test test xuống file csv\n",
    "# test_y_sr.to_frame('Price').to_csv(\"y_test.csv\",index_label=\"ID\",sep=\"\\t\")"
   ]
  },
  {
   "cell_type": "markdown",
   "metadata": {},
   "source": [
    "---\n",
    "# Tiền xử lý"
   ]
  },
  {
   "cell_type": "markdown",
   "metadata": {},
   "source": [
    "### Bỏ, thêm các cột, chuyển về kiểu dữ liệu phù hợp"
   ]
  },
  {
   "cell_type": "code",
   "execution_count": null,
   "metadata": {},
   "outputs": [],
   "source": [
    "# Load X_train\n",
    "X_df = pd.read_csv('X_train.csv', index_col=0,sep=\"\\t\")\n",
    "\n",
    "# Load y_train\n",
    "y_sr = np.ravel(pd.read_csv('y_train.csv', index_col=0,sep=\"\\t\"))"
   ]
  },
  {
   "cell_type": "code",
   "execution_count": null,
   "metadata": {},
   "outputs": [],
   "source": [
    "# Tách tập train và tập validation theo tỉ lệ 75%:25%\n",
    "train_X_df, val_X_df, train_y_sr, val_y_sr = train_test_split(X_df, y_sr, test_size=0.25, random_state=0)\n",
    "X_df=train_X_df.copy()"
   ]
  },
  {
   "cell_type": "code",
   "execution_count": null,
   "metadata": {},
   "outputs": [],
   "source": [
    "train_X_df.dtypes"
   ]
  },
  {
   "cell_type": "markdown",
   "metadata": {},
   "source": [
    "#### Dễ thấy cột link và name không giúp gì trong quá trình học nên ta sẽ bỏ nó đi"
   ]
  },
  {
   "cell_type": "code",
   "execution_count": null,
   "metadata": {},
   "outputs": [],
   "source": [
    "class LinkNameDropper(BaseEstimator, TransformerMixin):    \n",
    "    def transform(self, X_df, y=None):\n",
    "        # Copy ra 1 dataframe mới để không thay đổi X_df\n",
    "        X_df_transform=X_df.copy()\n",
    "        \n",
    "        # Bỏ cột link\n",
    "        X_df_transform=X_df_transform.drop(\"link\",axis=1)\n",
    "        \n",
    "        # Bỏ cột name\n",
    "        X_df_transform=X_df_transform.drop(\"name\",axis=1)\n",
    "        \n",
    "        return X_df_transform"
   ]
  },
  {
   "cell_type": "code",
   "execution_count": null,
   "metadata": {},
   "outputs": [],
   "source": [
    "link_name_dropper =LinkNameDropper()\n",
    "\n",
    "train_X_df = link_name_dropper.transform(train_X_df)\n",
    "\n",
    "train_X_df.head()"
   ]
  },
  {
   "cell_type": "markdown",
   "metadata": {},
   "source": [
    "#### Xử lý cột type"
   ]
  },
  {
   "cell_type": "code",
   "execution_count": null,
   "metadata": {},
   "outputs": [],
   "source": [
    "# Xem các giá trị trong cột type\n",
    "train_X_df['type'].value_counts()"
   ]
  },
  {
   "cell_type": "code",
   "execution_count": null,
   "metadata": {},
   "outputs": [],
   "source": [
    "class TypeTransform(BaseEstimator, TransformerMixin):\n",
    "    def __init__(self, num_top_types=1):\n",
    "        self.num_top_types= num_top_types\n",
    "    def fit(self, X_df, y=None):\n",
    "        type_col = X_df['type']\n",
    "        self.type_counts_ = type_col.value_counts()\n",
    "        types = list(self.type_counts_.index)\n",
    "        self.top_types_ = types[:max(1, min(self.num_top_types, len(types)))]\n",
    "        return self\n",
    "    def transform(self, X_df, y=None):\n",
    "        # Copy ra 1 dataframe mới để không thay đổi X_df\n",
    "        X_df_transform=X_df.copy()\n",
    "        \n",
    "        # Lấy cột type\n",
    "        type_s=X_df_transform['type']\n",
    "        \n",
    "        # Chuyển các giá trị trong cột type về các giá trị trong top_types_\n",
    "        type_s=type_s.apply(lambda x: x if x in self.top_types_ else \"Others\")\n",
    "        \n",
    "        # Thêm cột title vào dataframe\n",
    "        X_df_transform['type']=type_s\n",
    "        \n",
    "        return X_df_transform"
   ]
  },
  {
   "cell_type": "code",
   "execution_count": null,
   "metadata": {},
   "outputs": [],
   "source": [
    "type_transform = TypeTransform(num_top_types=3)\n",
    "type_transform.fit(train_X_df)\n",
    "print(type_transform.type_counts_)\n",
    "print()\n",
    "print(type_transform.top_types_)\n",
    "\n",
    "train_X_df = type_transform.transform(train_X_df)\n",
    "train_X_df['type'].value_counts()"
   ]
  },
  {
   "cell_type": "markdown",
   "metadata": {},
   "source": [
    "#### Xử lý cột area"
   ]
  },
  {
   "cell_type": "code",
   "execution_count": null,
   "metadata": {},
   "outputs": [],
   "source": [
    "train_X_df.dtypes"
   ]
  },
  {
   "cell_type": "markdown",
   "metadata": {},
   "source": [
    "#### Chuyển kiểu dữ liệu về dạng số"
   ]
  },
  {
   "cell_type": "code",
   "execution_count": null,
   "metadata": {},
   "outputs": [],
   "source": [
    "class AreaTransform(BaseEstimator, TransformerMixin):\n",
    "    def fit(self, X_df, y=None):\n",
    "        self.X=X_df\n",
    "        return self\n",
    "    def transform(self, X_df, y=None):\n",
    "        # Copy ra 1 dataframe mới để không thay đổi X_df\n",
    "        X_df_transform=X_df.copy()\n",
    "        \n",
    "        # Lấy cột area\n",
    "        area=X_df_transform['area']\n",
    "        \n",
    "        # Bỏ m2\n",
    "        area= area.str.replace(\"m2\",\"\")\n",
    "        X_df_transform['area']=area\n",
    "        \n",
    "        \n",
    "        # Chuyển về thành số\n",
    "        X_df_transform['area'] = pd.to_numeric(X_df_transform['area'])\n",
    "        return X_df_transform"
   ]
  },
  {
   "cell_type": "code",
   "execution_count": null,
   "metadata": {},
   "outputs": [],
   "source": [
    "area_transform=AreaTransform()\n",
    "train_X_df=area_transform.transform(train_X_df)\n",
    "train_X_df.head()"
   ]
  },
  {
   "cell_type": "code",
   "execution_count": null,
   "metadata": {},
   "outputs": [],
   "source": [
    "train_X_df.dtypes"
   ]
  },
  {
   "cell_type": "markdown",
   "metadata": {},
   "source": [
    "#### Xử lý cột room_types"
   ]
  },
  {
   "cell_type": "markdown",
   "metadata": {},
   "source": [
    "Ta thấy cột room_types: cho biết thể loại cho thuê và số lượng các phòng mỗi loại"
   ]
  },
  {
   "cell_type": "code",
   "execution_count": null,
   "metadata": {},
   "outputs": [],
   "source": [
    "roomtypes=train_X_df['room_types'].str.split(\" · \")\\\n",
    ".apply(lambda x: [[x[0]]]+\\\n",
    "       [i.split(\" \",1) for i in x[1:-1]]+[x[-1].split(\" \",2)[:-1]]+\\\n",
    "       [[re.findall(r'\\d+',x[-1].split(\" \",2)[-1])[0],\"khách tối đa\"]])\n",
    "roomtypes.apply(lambda x: [i[-1] for i in x]).value_counts()"
   ]
  },
  {
   "cell_type": "markdown",
   "metadata": {},
   "source": [
    "Ta thấy các dòng của cột room_types đều cho biết các thông tin: loại phòng, số phòng tắm, số giường, số phòng ngủ, số khách, số khách tối đa. Ta thấy thuộc tính số khách chính là số khách tối thiểu. Do đó khi xử lý cột này ta sẽ sinh ra thêm 6 cột: loại phòng, số phòng tắm, số giường, số phòng ngủ, số khách tối thiểu, số khách tối đa."
   ]
  },
  {
   "cell_type": "code",
   "execution_count": null,
   "metadata": {},
   "outputs": [],
   "source": [
    "class Room_TypesTransform(BaseEstimator, TransformerMixin):\n",
    "    def fit(self, X_df, y=None):\n",
    "        self.X=X_df\n",
    "        return self\n",
    "    def transform(self, X_df, y=None):\n",
    "        # Copy ra 1 dataframe mới để không thay đổi X_df\n",
    "        X_df_transform=X_df.copy()\n",
    "        \n",
    "        # Rút trích các thông tin có trong cột room_types\n",
    "        roomtypes=X_df_transform['room_types'].str.split(\" · \")\\\n",
    "        .apply(lambda x: [[x[0]]]+\\\n",
    "               [i.split(\" \",1) for i in x[1:-1]]+[x[-1].split(\" \",2)[:-1]]+\\\n",
    "               [[re.findall(r'\\d+',x[-1].split(\" \",2)[-1])[0],\"khách tối đa\"]])\n",
    "        \n",
    "        # Thêm cột kind of rooms\n",
    "        X_df_transform['kind of rooms']=roomtypes.apply(lambda x:x[0][0])\n",
    "        def numeric(x):\n",
    "            try:\n",
    "                if x.str.isnumeric():\n",
    "                    x=int(x)\n",
    "            except:\n",
    "                x=0\n",
    "            return x\n",
    "        \n",
    "        # Thêm cột bathrooms, tiến thành chuyển kiểu số\n",
    "        X_df_transform['bathrooms']=roomtypes.apply(lambda x:x[1][0])\n",
    "        X_df_transform['bathrooms']= X_df_transform['bathrooms'].apply(numeric)\n",
    "        \n",
    "        # Thêm cột bathrooms, loại các dòng không thể ép thành số, tiến thành chuyển kiểu số\n",
    "        X_df_transform['beds']=roomtypes.apply(lambda x:x[2][0])\n",
    "        X_df_transform['beds']=X_df_transform['beds'].apply(numeric)\n",
    "        \n",
    "        # Thêm cột bathrooms, loại các dòng không thể ép thành số, tiến thành chuyển kiểu số\n",
    "        X_df_transform['bedrooms']=roomtypes.apply(lambda x:x[3][0])\n",
    "        X_df_transform['bedrooms']=X_df_transform['bedrooms'].apply(numeric)\n",
    "        \n",
    "        # Thêm cột bathrooms, loại các dòng không thể ép thành số, tiến thành chuyển kiểu số\n",
    "        X_df_transform['min guests']=roomtypes.apply(lambda x:x[4][0])\n",
    "        X_df_transform['min guests']=X_df_transform['min guests'].apply(numeric)\n",
    "        \n",
    "        # Thêm cột bathrooms, loại các dòng không thể ép thành số, tiến thành chuyển kiểu số\n",
    "        X_df_transform['max guests']=roomtypes.apply(lambda x:x[5][0])\n",
    "        X_df_transform['max guests']=X_df_transform['max guests'].apply(numeric)\n",
    "        \n",
    "        # Bỏ cột room_types  \n",
    "        X_df_transform=X_df_transform.drop(\"room_types\",axis=1)\n",
    "        return X_df_transform"
   ]
  },
  {
   "cell_type": "code",
   "execution_count": null,
   "metadata": {},
   "outputs": [],
   "source": [
    "room_types_transform=Room_TypesTransform()\n",
    "train_X_df=room_types_transform.transform(train_X_df)"
   ]
  },
  {
   "cell_type": "code",
   "execution_count": null,
   "metadata": {},
   "outputs": [],
   "source": [
    "train_X_df.dtypes"
   ]
  },
  {
   "cell_type": "markdown",
   "metadata": {},
   "source": [
    "#### Xử lý cột location"
   ]
  },
  {
   "cell_type": "code",
   "execution_count": null,
   "metadata": {},
   "outputs": [],
   "source": [
    "x=train_X_df['location'].apply(lambda x:str(x).replace(\", Vietnam\",\"\").split(\",\")[-1].strip()).value_counts()\n",
    "x"
   ]
  },
  {
   "cell_type": "markdown",
   "metadata": {},
   "source": [
    "#### Ta thấy Hà Nội xuất hiện 2 lần chắc là do sai khác kiểu lưu trữ, Vũng tàu và bà rịa vũng tàu tương đương nhau nên ta tiến hành convert lại"
   ]
  },
  {
   "cell_type": "code",
   "execution_count": null,
   "metadata": {},
   "outputs": [],
   "source": [
    "class ConvertTransform(BaseEstimator, TransformerMixin):\n",
    "    def fit(self, X_df, y=None):\n",
    "        self.X=X_df\n",
    "        return self\n",
    "    def transform(self, X_df, y=None):\n",
    "        # Copy ra 1 dataframe mới để không thay đổi X_df\n",
    "        X_df_transform=X_df.copy()\n",
    "        \n",
    "        def convert(x):\n",
    "            if x.encode()==b'H\\xc3\\xa0 N\\xe1\\xbb\\x99i':\n",
    "                x='Hà Nội'\n",
    "            elif x.encode()==b'Ha\\xcc\\x80 N\\xc3\\xb4\\xcc\\xa3i':\n",
    "                x='Hà Nội'\n",
    "            elif x==\"Bà Rịa Vũng Tàu\":\n",
    "                x='Vũng Tàu'\n",
    "            return x\n",
    "        \n",
    "        location_convert=X_df_transform['location']\\\n",
    "        .apply(lambda x:str(x).replace(\", Vietnam\",\"\").split(\",\")[-1].strip()).apply(convert)\n",
    "        \n",
    "        \n",
    "        X_df_transform['location']=location_convert\n",
    "        return X_df_transform"
   ]
  },
  {
   "cell_type": "code",
   "execution_count": null,
   "metadata": {},
   "outputs": [],
   "source": [
    "convertTransform=ConvertTransform()\n",
    "\n",
    "train_X_df=convertTransform.transform(train_X_df)\n",
    "train_X_df['location'].value_counts()"
   ]
  },
  {
   "cell_type": "code",
   "execution_count": null,
   "metadata": {},
   "outputs": [],
   "source": [
    "class LocationTransform(BaseEstimator, TransformerMixin):\n",
    "    def __init__(self, num_top_locations=1):\n",
    "        self.num_top_locations= num_top_locations\n",
    "    def fit(self, X_df, y=None):\n",
    "        locations_col = X_df['location']\n",
    "        self.location_counts_ = locations_col.value_counts()\n",
    "        locations = list(self.location_counts_.index)\n",
    "        self.top_locations_ = locations[:max(1, min(self.num_top_locations, len(locations)))]\n",
    "        return self\n",
    "    def transform(self, X_df, y=None):\n",
    "        # Copy ra 1 dataframe mới để không thay đổi X_df\n",
    "        X_df_transform=X_df.copy()\n",
    "        \n",
    "        # Lấy cột type\n",
    "        location_s=X_df_transform['location']\n",
    "        \n",
    "        # Chuyển các giá trị trong cột type về các giá trị trong top_types_\n",
    "        location_s=location_s.apply(lambda x: x if x in self.top_locations_ else \"Others\")\n",
    "        \n",
    "        # Thêm cột title vào dataframe\n",
    "        X_df_transform['location']=location_s\n",
    "        \n",
    "        return X_df_transform"
   ]
  },
  {
   "cell_type": "code",
   "execution_count": null,
   "metadata": {},
   "outputs": [],
   "source": [
    "locationTransform=LocationTransform(num_top_locations=3)\n",
    "locationTransform.fit(train_X_df)\n",
    "train_X_df=locationTransform.transform(train_X_df)\n",
    "train_X_df"
   ]
  },
  {
   "cell_type": "markdown",
   "metadata": {},
   "source": [
    "#### Xử lý cột Ultilies"
   ]
  },
  {
   "cell_type": "code",
   "execution_count": null,
   "metadata": {},
   "outputs": [],
   "source": [
    "class UltiliesDropper(BaseEstimator, TransformerMixin):\n",
    "    def fit(self, X_df, y=None):\n",
    "        self.X=X_df\n",
    "        return self\n",
    "    def transform(self, X_df, y=None):\n",
    "        # Copy ra 1 dataframe mới để không thay đổi X_df\n",
    "        X_df_transform=X_df.copy()\n",
    "        \n",
    "        # Bỏ cột Ultilies\n",
    "        # X_df_transform=X_df_transform.drop(\"Ultilies\",axis=1)\n",
    "        del X_df_transform['utilities']\n",
    "        return X_df_transform"
   ]
  },
  {
   "cell_type": "code",
   "execution_count": null,
   "metadata": {},
   "outputs": [],
   "source": [
    "ultiliesdropper=UltiliesDropper()\n",
    "ultiliesdropper.transform(train_X_df)"
   ]
  },
  {
   "cell_type": "code",
   "execution_count": null,
   "metadata": {},
   "outputs": [],
   "source": [
    "transform_column_pipeline=make_pipeline(LinkNameDropper(),\\\n",
    "                                        TypeTransform(num_top_types=3),\\\n",
    "                                        AreaTransform(),\\\n",
    "                                        Room_TypesTransform(),\\\n",
    "                                        ConvertTransform(),\\\n",
    "                                        UltiliesDropper(),\\\n",
    "                                        LocationTransform(num_top_locations=3)\n",
    "                                        )\n",
    "\n",
    "nume_cols = ['area', 'inweek', 'weekend','bathrooms','beds','bedrooms','min guests','max guests' ]\n",
    "cate_cols = ['type', 'location', 'kind of rooms']\n",
    "nume_transform=Pipeline(steps=[('knn', KNNImputer(n_neighbors=3))])\n",
    "\n",
    "# Tạo 1 pipeline điền giá trị mode và onehotencoder\n",
    "cate_transform=Pipeline(steps=[('imp_mode',SimpleImputer(missing_values=np.nan, strategy='most_frequent'))\n",
    "                                ,('encoder',OneHotEncoder(handle_unknown='ignore'))])\n",
    "\n",
    "# Tạo 1 ColumnTransformer xác định transformer với cột tương ứng\n",
    "column_transform = ColumnTransformer(transformers=[('num', nume_transform, nume_cols)\n",
    "                                                   ,('cat', cate_transform, cate_cols)])\n",
    "\n",
    "preprocess_pipeline=make_pipeline(transform_column_pipeline,column_transform,StandardScaler())\n",
    "\n",
    "preprocessed_train_X=preprocess_pipeline.fit_transform(X_df)"
   ]
  },
  {
   "cell_type": "code",
   "execution_count": null,
   "metadata": {},
   "outputs": [],
   "source": [
    "preprocessed_train_X.shape"
   ]
  },
  {
   "cell_type": "code",
   "execution_count": null,
   "metadata": {},
   "outputs": [],
   "source": [
    "preprocessed_val_X=preprocess_pipeline.transform(val_X_df)"
   ]
  },
  {
   "cell_type": "code",
   "execution_count": null,
   "metadata": {},
   "outputs": [],
   "source": [
    "preprocessed_val_X.shape"
   ]
  },
  {
   "cell_type": "code",
   "execution_count": null,
   "metadata": {},
   "outputs": [],
   "source": [
    "# Tính độ đo r^2 trên tập huấn luyện\n",
    "def compute_mse(y, preds):\n",
    "    return ((y - preds) ** 2).mean()\n",
    "def compute_rr(y, preds, baseline_preds):\n",
    "    return 1 - compute_mse(y, preds) / compute_mse(y, baseline_preds)\n",
    "baseline_preds = train_y_sr.mean()"
   ]
  },
  {
   "cell_type": "code",
   "execution_count": null,
   "metadata": {},
   "outputs": [],
   "source": [
    "train_X_df=X_df\n",
    "full_pipeline=Pipeline(steps=[('preprocess',preprocess_pipeline),\n",
    "                                ('mlpregressor',MLPRegressor(hidden_layer_sizes=(300),early_stopping=True,\\\n",
    "                                                             activation='relu',max_iter=3000,\n",
    "                                                               solver='lbfgs',random_state=0))])\n",
    "# full_pipeline.set_params(preprocess__pipeline__typetransform__num_top_types=1,\\\n",
    "#                                      preprocess__pipeline__locationtransform__num_top_locations=2,\\\n",
    "#                                      mlpregressor__alpha=0.01)\n",
    "# neural_net_model=full_pipeline.fit(train_X_df,train_y_sr)\n",
    "# compute_rr(val_y_sr, neural_net_model.predict(val_X_df), baseline_preds)"
   ]
  },
  {
   "cell_type": "code",
   "execution_count": null,
   "metadata": {},
   "outputs": [],
   "source": [
    "# Thử nghiệm với các giá trị khác nhau của các siêu tham số\n",
    "# và chọn ra các giá trị tốt nhất\n",
    "train_X_df=X_df\n",
    "train_rrs = []\n",
    "val_rrs = []\n",
    "alphas = [0.1, 1, 10, 100, 1000]\n",
    "num_top_types = [1,2,3,4,5]\n",
    "num_top_locations=[1,2,3,4,5]\n",
    "best_val_rr = 0; best_alpha = None; best_num_top_types = None;best_num_top_locations=None\n",
    "for alpha in alphas:\n",
    "    for num_top_type in num_top_types:\n",
    "        for num_top_location in num_top_locations:\n",
    "            # set params cho mô hình\n",
    "            full_pipeline.set_params(preprocess__pipeline__typetransform__num_top_types=num_top_type,\\\n",
    "                                     preprocess__pipeline__locationtransform__num_top_locations=num_top_location,\\\n",
    "                                     mlpregressor__alpha=alpha)\n",
    "\n",
    "            # Fit dữ liệu vào mô hình\n",
    "            neural_net_model=full_pipeline.fit(train_X_df,train_y_sr)\n",
    "\n",
    "            # Tính train_err và thêm vào train_errs\n",
    "            \n",
    "            train_rrs.append(compute_rr(train_y_sr, neural_net_model.predict(train_X_df), baseline_preds))\n",
    "\n",
    "            # Tính val_errs và thêm vào val_errs\n",
    "            val_rrs.append(compute_rr(val_y_sr, neural_net_model.predict(val_X_df), baseline_preds))\n",
    "            f = open(\"model.csv\", \"a\",encoding=\"utf-8\")\n",
    "            f.write(f\"{alpha}\\t{num_top_type}\\t{num_top_location}\\t{train_rrs[-1]}\\t{val_rrs[-1]}\\t300\\n\")\n",
    "            f.close()\n",
    "            # Gán lại các giá trị tốt nhất\n",
    "            if val_rrs[-1]>best_val_rr:\n",
    "                best_val_rr=val_rrs[-1]\n",
    "                best_alpha=alpha\n",
    "                best_num_top_types=num_top_type\n",
    "                best_num_top_locations=num_top_location\n",
    "            \n",
    "'Finish!'"
   ]
  },
  {
   "cell_type": "code",
   "execution_count": null,
   "metadata": {},
   "outputs": [],
   "source": [
    "# YOUR CODE HERE\n",
    "\n",
    "# Nối 2 tập huẩn luyện + tập validation\n",
    "X_df=pd.concat([train_X_df,val_X_df])\n",
    "y_sr=pd.concat([train_y_sr,val_y_sr])\n",
    "\n",
    "# Set params tốt nhất\n",
    "full_pipeline.set_params(preprocess__coladderdropper__num_top_titles=best_num_top_titles,mlpclassifier__alpha=best_alpha)\n",
    "\n",
    "# Train lại\n",
    "best_neural_net_model=full_pipeline.fit(X_df,y_sr)"
   ]
  }
 ],
 "metadata": {
  "kernelspec": {
   "display_name": "Python 3",
   "language": "python",
   "name": "python3"
  },
  "language_info": {
   "codemirror_mode": {
    "name": "ipython",
    "version": 3
   },
   "file_extension": ".py",
   "mimetype": "text/x-python",
   "name": "python",
   "nbconvert_exporter": "python",
   "pygments_lexer": "ipython3",
   "version": "3.6.9"
  }
 },
 "nbformat": 4,
 "nbformat_minor": 4
}
