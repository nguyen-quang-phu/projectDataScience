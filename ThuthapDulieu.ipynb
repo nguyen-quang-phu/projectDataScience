{
 "cells": [
  {
   "cell_type": "markdown",
   "metadata": {},
   "source": [
    "# Import thư viện cần thiết"
   ]
  },
  {
   "cell_type": "code",
   "execution_count": 1,
   "metadata": {},
   "outputs": [],
   "source": [
    "from requests_html import HTMLSession\n",
    "from requests_html import HTML\n",
    "from selenium import webdriver\n",
    "from selenium.webdriver.common.keys import Keys\n",
    "import time\n",
    "import csv\n",
    "import re\n",
    "import numpy as np\n",
    "import pandas as pd"
   ]
  },
  {
   "cell_type": "markdown",
   "metadata": {},
   "source": [
    "# Thu thập Dữ liệu"
   ]
  },
  {
   "cell_type": "code",
   "execution_count": null,
   "metadata": {},
   "outputs": [],
   "source": [
    "# Lấy tổng quan dữ liệu, khi lấy cụ thể thì không xài đến\n",
    "def ThuThapData(link,maxNumPage,fileName):\n",
    "    f = open(fileName, \"a\",encoding=\"utf-8\")\n",
    "    f.write(\"Loại\\tTên\\tCác loại phòng\\tGiá\\tVị trí\\tSố đánh giá\\n\")\n",
    "    browser = webdriver.Chrome(executable_path='chromedriver.exe')\n",
    "    for page in range(1,maxNumPage+1):\n",
    "        url = f\"{link}{page}\"\n",
    "        browser.get(url)\n",
    "        time.sleep(3)\n",
    "        r = HTML(html=browser.page_source)\n",
    "        posts=r.find(\".promo.is-relative\")\n",
    "        for stt,post in enumerate(posts):\n",
    "            temp=post.text.split(\"\\n\")\n",
    "            # Bỏ đi dòng khuyến mãi\n",
    "            if temp[0][0]=='-':\n",
    "                temp.remove(temp[0])\n",
    "            # Bỏ đi trạng thái phòng\n",
    "            if 'Đặt phòng ngay' in temp[1]:\n",
    "                temp.remove(temp[1])\n",
    "            for i in temp:\n",
    "                f.write(i)\n",
    "                f.write(\"\\t\")\n",
    "    f.write(link)\n",
    "    f.write(\"\\t\")\n",
    "    f.write(\"\\n\")\n",
    "    f.close()"
   ]
  },
  {
   "cell_type": "code",
   "execution_count": null,
   "metadata": {},
   "outputs": [],
   "source": [
    "#ThuThapData(\"https://www.luxstay.com/vi/vietnam/lam-dong/da-lat?page=\",71,\"dalat.csv\")\n",
    "#ThuThapData(\"https://www.luxstay.com/vi/vietnam/ha-noi?page=\",93,\"hanoi.csv\")\n",
    "#ThuThapData(\"https://www.luxstay.com/vi/vietnam/ho-chi-minh?page=\",134,\"hochiminh.csv\")\n",
    "#ThuThapData(\"https://www.luxstay.com/vi/vietnam/ba-ria-vung-tau/vung-tau?page=\",31,\"vungtau.csv\")\n",
    "#ThuThapData(\"https://www.luxstay.com/vi/vietnam/khanh-hoa/nha-trang?page=\",34,\"nhatrang.csv\")\n",
    "#ThuThapData(\"https://www.luxstay.com/vi/vietnam/quang-ninh?page=\",15,\"quangninh.csv\")"
   ]
  },
  {
   "cell_type": "code",
   "execution_count": null,
   "metadata": {},
   "outputs": [],
   "source": [
    "# Lấy full thông tin của 1 trang con và chèn vào file\n",
    "# browser: trình duyệt đang mở\n",
    "# url: đường link trang cần lấy thông tin\n",
    "# time_sleep: thời gian chờ load, chờ scroll\n",
    "# file_name: file ghi lại thông tin\n",
    "# Output: Không có\n",
    "\n",
    "def crawDataOnePage(browser,url,time_sleep,file_name):\n",
    "    browser.get(url)\n",
    "    browser.execute_script(\"window.scrollTo(0, window.scrollY + 1200)\")\n",
    "    time.sleep(time_sleep)\n",
    "    # Tắt quảng cáo bằng ESC nếu có\n",
    "    browser.find_element_by_tag_name('html').send_keys(Keys.ESCAPE)\n",
    "    r = HTML(html=browser.page_source)\n",
    "\n",
    "    f = open(file_name, \"a+\",encoding=\"utf-8\")\n",
    "    f.write(url)\n",
    "    f.write(\"\\t\")\n",
    "    # Lấy tên nhà\n",
    "    try:\n",
    "        f.write(r.find(\".col-xs-12.col-sm-10\")[0].text)\n",
    "    except:\n",
    "        pass\n",
    "    f.write(\"\\t\")\n",
    "    # Lấy loại nhà\n",
    "    try:\n",
    "        f.write(r.find(\".mt--12\")[0].text.split(\" · \")[0])\n",
    "    except:\n",
    "        pass\n",
    "    f.write(\"\\t\")\n",
    "    # Lấy Diện tích\n",
    "    try:\n",
    "        f.write(r.find(\".mt--12\")[0].text.split(\" · \")[1])\n",
    "    except:\n",
    "        pass  \n",
    "    f.write(\"\\t\")\n",
    "    # Lấy các lại phòng\n",
    "    try:\n",
    "        f.write(r.find(\".mb--0\")[2].text)\n",
    "    except:\n",
    "        pass  \n",
    "    f.write(\"\\t\")\n",
    "    # Lấy giá phòng\n",
    "    try:\n",
    "        f.write(r.find(\".fadeIn\")[1].text)\n",
    "    except:\n",
    "        pass \n",
    "    f.write(\"\\t\")\n",
    "    # Lấy ví trí\n",
    "    try:\n",
    "        f.write(r.find(\".ml--6.bold\")[0].text)\n",
    "    except:\n",
    "        pass \n",
    "    f.write(\"\\t\")\n",
    "    #lấy tiện ích\n",
    "    for i in range(10):\n",
    "        try:\n",
    "            time.sleep(0.1)\n",
    "            x=browser.find_element_by_link_text(\"Xem thêm\")\n",
    "            x.click()\n",
    "            reponse = HTML(html=browser.page_source)\n",
    "            break\n",
    "        except:\n",
    "            pass\n",
    "    try:\n",
    "        f.write(reponse.find(\".container.container--sm.pb--48\")[0].text.replace(\"\\n\",\",\")) \n",
    "    except:\n",
    "        pass\n",
    "    f.write(\"\\n\")\n",
    "    f.close()"
   ]
  },
  {
   "cell_type": "code",
   "execution_count": null,
   "metadata": {},
   "outputs": [],
   "source": [
    "# Lấy thông tin các trang con từ main_link\n",
    "# main_link: Link dẫn đến trang tổng quan, trang gồm list các chỗ ở, 1 trang tối đa 20 chỗ\n",
    "# time_sleep: thời gian chờ load, chờ scroll\n",
    "# file_name: file ghi lại thông tin\n",
    "# startNumPage: trang bắt đầu\n",
    "# endNumPage: trang kết thúc\n",
    "# Output: Không có\n",
    "def crawDataMulPage(main_link,time_sleep,file_name,startNumPage,endNumPage):\n",
    "    pattern=r\"^/vi/rooms/\\d+\"\n",
    "    \n",
    "    fi = open(file_name, \"w\",encoding=\"utf-8\")\n",
    "    fi.write(\"Link\\tTên\\tLoại nhà\\tDiện tích\\tCác loại phòng\\tGiá\\tVị trí\\tTiện ích\\n\")\n",
    "    fi.close()\n",
    "    browser = webdriver.Chrome(executable_path='chromedriver.exe')\n",
    "    for page in range(startNumPage,endNumPage+1):\n",
    "        main_url = f\"{main_link}{page}\"\n",
    "        print(main_url)\n",
    "        browser.get(main_url)\n",
    "        time.sleep(time_sleep)\n",
    "        r = HTML(html=browser.page_source)\n",
    "        sub_links=[]\n",
    "        # lọc link cần\n",
    "        for link in r.links:\n",
    "            if re.match(pattern,link)!=None:\n",
    "                sub_links.append(link)\n",
    "        print(sub_links)\n",
    "        # lấy data từng link\n",
    "        for sub_link in sub_links:\n",
    "            print(f\"https://www.luxstay.com{sub_link}\")\n",
    "            crawDataOnePage(browser,f\"https://www.luxstay.com{sub_link}\",time_sleep,file_name)\n"
   ]
  },
  {
   "cell_type": "code",
   "execution_count": null,
   "metadata": {},
   "outputs": [],
   "source": [
    "# # Với mỗi lần lấy data ở mỗi main_link chỉ lấy 10 trang, nếu lấy hơn 10 trang sẽ gặp hiện tượng get trang thất bại (lý do: thực nghiệm quan sát thấy)\n",
    "\n",
    "# # Lấy dữ liệu ở Quảng Ninh\n",
    "# crawDataMulPage(\"https://www.luxstay.com/vi/vietnam/quang-ninh?page=\",1,\"quangninh_p1.csv\",1,10)\n",
    "# crawDataMulPage(\"https://www.luxstay.com/vi/vietnam/quang-ninh?page=\",1,\"quangninh_p2.csv\",11,15)\n",
    "\n",
    "# # Lấy dữ liệu ở Nha Trang\n",
    "# for page in range(1,31,10):\n",
    "#     crawDataMulPage(\"https://www.luxstay.com/vi/vietnam/khanh-hoa/nha-trang?page=\",1,\"nhatrang_p{int(page/10+1)}.csv\",page,page+9)\n",
    "# crawDataMulPage(\"https://www.luxstay.com/vi/vietnam/khanh-hoa/nha-trang?page=\",1,\"nhatrang_p4.csv\",31,34)\n",
    "\n",
    "# # Lấy dữ liệu ở Vũng Tàu\n",
    "# for page in range(1,31,10):\n",
    "#     crawDataMulPage(\"https://www.luxstay.com/vi/vietnam/ba-ria-vung-tau/vung-tau?page=\",1,f\"vungtau_p{int(page/10+1)}.csv\",page,page+9)\n",
    "\n",
    "# # Lấy dữ liệu ở HCM\n",
    "# for page in range(1,131,10):\n",
    "#     crawDataMulPage(\"https://www.luxstay.com/vi/vietnam/ho-chi-minh?page=\",1,f\"hcm_p{int(page/10+1)}.csv\",page,page+9)\n",
    "# crawDataMulPage(\"https://www.luxstay.com/vi/vietnam/ho-chi-minh?page=\",1,\"hcm_p14.csv\",131,134)\n",
    "\n",
    "# # Lấy dữ liệu ở Hà Nội\n",
    "# for page in range(1,91,10):\n",
    "#     crawDataMulPage(\"https://www.luxstay.com/vi/vietnam/ha-noi?page=\",1,f\"hanoi_p{int(page/10+1)}.csv\",page,page+9)\n",
    "    \n",
    "# # Lấy dữ liệu ở Đà Lạt  \n",
    "# for page in range(1,71,10):\n",
    "#     crawDataMulPage(\"https://www.luxstay.com/vi/vietnam/lam-dong/da-lat?page=\",1,f\"dalat_p{int(page/10+1)}.csv\",page,page+9)"
   ]
  },
  {
   "cell_type": "code",
   "execution_count": null,
   "metadata": {},
   "outputs": [],
   "source": [
    "# đọc nội dung 1 file\n",
    "# fileName: tên file cần đọc\n",
    "# Output: list các dòng trong file\n",
    "\n",
    "def readOneFile(fileName):\n",
    "    f=open(fileName,\"r\",encoding=\"utf-8\")\n",
    "    content=f.readlines()\n",
    "    f.close()\n",
    "    return content"
   ]
  },
  {
   "cell_type": "code",
   "execution_count": null,
   "metadata": {},
   "outputs": [],
   "source": [
    "# tổng hợp dữ liệu vào 1 file\n",
    "f= open(\"data.csv\",\"w\",encoding=\"utf-8\")\n",
    "listFile=[\"dalat_p1\",\"dalat_p2\",\"dalat_p3\",\"dalat_p4\",\"dalat_p5\",\"dalat_p6\",\"dalat_p7\",\n",
    "          \"hanoi_p1\",\"hanoi_p2\",\"hanoi_p3\",\"hanoi_p4\",\"hanoi_p5\",\"hanoi_p6\",\"hanoi_p7\",\"hanoi_p8\",\"hanoi_p9\",\"hanoi_p10\",\n",
    "          \"hcm_p1\",\"hcm_p2\",\"hcm_p3\",\"hcm_p4\",\"hcm_p5\",\"hcm_p6\",\"hcm_p7\",\"hcm_p8\",\"hcm_p9\",\"hcm_p10\",\"hcm_p11\",\"hcm_p12\",\"hcm_p13\",\"hcm_p14\",\n",
    "          \"nhatrang_p1\",\"nhatrang_p2\",\"nhatrang_p3\",\"nhatrang_p4\",\n",
    "          \"vungtau_p1\",\"vungtau_p2\",\"vungtau_p3\",\n",
    "          \"quangninh_p1\",\"quangninh_p2\"]\n",
    "f.write(\"Link\\tTên\\tLoại nhà\\tDiện tích\\tCác loại phòng\\tGiá\\tVị trí\\tTiện ích\\n\")\n",
    "for fileName in listFile:\n",
    "    content=readOneFile(f\"data\\{fileName}.csv\")\n",
    "    for i in range(1,len(content)):\n",
    "        f.write(content[i])\n",
    "f.close()"
   ]
  },
  {
   "cell_type": "markdown",
   "metadata": {},
   "source": [
    "# Tiền xử lý Dữ liệu"
   ]
  },
  {
   "cell_type": "code",
   "execution_count": null,
   "metadata": {},
   "outputs": [],
   "source": [
    "data_df = pd.read_csv(\"data.csv\",sep='\\t')"
   ]
  },
  {
   "cell_type": "code",
   "execution_count": null,
   "metadata": {},
   "outputs": [],
   "source": [
    "data_df.head()"
   ]
  },
  {
   "cell_type": "code",
   "execution_count": null,
   "metadata": {},
   "outputs": [],
   "source": [
    "data_df.info()"
   ]
  },
  {
   "cell_type": "code",
   "execution_count": null,
   "metadata": {},
   "outputs": [],
   "source": [
    "# #Lấy lại thông tin tiện ích với các dòng bị thiếu\n",
    "\n",
    "# for i in range(0,76):\n",
    "#     start=100*i\n",
    "#     data_df[start:100+start].info()\n",
    "#     browser = webdriver.Chrome(executable_path='chromedriver.exe')\n",
    "#     for i in range(start,start+100):\n",
    "#         if type(data_df.iloc[i,-1])== float:\n",
    "#             if np.isnan(data_df.iloc[i,-1])== True:\n",
    "#                 try:\n",
    "#                     browser.get(data_df.iloc[i,0])\n",
    "#                     time.sleep(1)\n",
    "#                     browser.execute_script(\"window.scrollTo(0, window.scrollY + 1200)\")\n",
    "#                     time.sleep(1)\n",
    "#                     x=browser.find_element_by_link_text(\"Xem thêm\")\n",
    "#                     x.click()\n",
    "#                     reponse = HTML(html=browser.page_source)\n",
    "#                     res=reponse.find(\".list-unstyled\")\n",
    "#                     element = browser.find_element_by_css_selector(\".container.container--sm.pb--48\").text.replace(\"\\n\",\",\")\n",
    "#                     data_df.iloc[i,-1]=element\n",
    "#                     print(data_df.iloc[i,0])\n",
    "#                 except:\n",
    "#                     pass\n",
    "#     data_df[start:100+start].info()\n",
    "#     data_df.to_csv(\"raw_data.csv\", sep='\\t', encoding='utf-8')\n",
    "#     browser.close()"
   ]
  },
  {
   "cell_type": "code",
   "execution_count": 6,
   "metadata": {},
   "outputs": [
    {
     "name": "stdout",
     "output_type": "stream",
     "text": [
      "<class 'pandas.core.frame.DataFrame'>\n",
      "RangeIndex: 7507 entries, 0 to 7506\n",
      "Data columns (total 9 columns):\n",
      "Link              7507 non-null object\n",
      "Tên               7489 non-null object\n",
      "Loại nhà          7491 non-null object\n",
      "Diện tích         7368 non-null object\n",
      "Các loại phòng    7489 non-null object\n",
      "Giá               7488 non-null object\n",
      "Vị trí            7487 non-null object\n",
      "Tiện ích          7373 non-null object\n",
      "Giá cuối tuần     7507 non-null object\n",
      "dtypes: object(9)\n",
      "memory usage: 528.0+ KB\n"
     ]
    },
    {
     "data": {
      "text/plain": [
       "6873"
      ]
     },
     "execution_count": 6,
     "metadata": {},
     "output_type": "execute_result"
    }
   ],
   "source": [
    "rawdata_df = pd.read_csv(\"raw_data2.csv\",sep='\\t')\n",
    "#rawdata_df['Giá cuối tuần'] = 0\n",
    "rawdata_df\n",
    "rawdata_df.info()\n",
    "# rawdata_df.iloc[:,1:].to_csv(\"raw_data.csv\",sep='\\t',encoding='utf-8',index=False)\n",
    "len(rawdata_df[rawdata_df['Giá cuối tuần'] != '0'])"
   ]
  },
  {
   "cell_type": "code",
   "execution_count": null,
   "metadata": {},
   "outputs": [],
   "source": [
    "# # Lấy giá lần 2\n",
    "# for i in range(0,76):\n",
    "#     start=100*i\n",
    "#     rawdata_df[start:100+start].info()\n",
    "#     browser = webdriver.Chrome(executable_path='chromedriver.exe')\n",
    "#     for i in range(start,start+100):\n",
    "#         try:\n",
    "#             browser.get(rawdata_df.iloc[i,0])\n",
    "#             r = HTML(html=browser.page_source)\n",
    "#             x=r.find(\".c-gray-3.fl-item-50.pl--12.bold.text-right\")\n",
    "#             print(x[1].text)\n",
    "#             rawdata_df.iloc[i,-1]=x[1].text\n",
    "#         except:\n",
    "#             pass\n",
    "#     rawdata_df[start:100+start].info()\n",
    "#     rawdata_df.to_csv(\"raw_data2.csv\", sep='\\t', encoding='utf-8',index=False)\n",
    "#     browser.close()"
   ]
  },
  {
   "cell_type": "code",
   "execution_count": null,
   "metadata": {},
   "outputs": [],
   "source": [
    "#rawdata_df[rawdata_df['Giá cuối tuần']=='0'].replace('0',np.nan)\n",
    "#rawdata_df.to_csv(\"raw_data3.csv\", sep='\\t', encoding='utf-8',index=False)"
   ]
  }
 ],
 "metadata": {
  "kernelspec": {
   "display_name": "Python 3",
   "language": "python",
   "name": "python3"
  },
  "language_info": {
   "codemirror_mode": {
    "name": "ipython",
    "version": 3
   },
   "file_extension": ".py",
   "mimetype": "text/x-python",
   "name": "python",
   "nbconvert_exporter": "python",
   "pygments_lexer": "ipython3",
   "version": "3.7.3"
  }
 },
 "nbformat": 4,
 "nbformat_minor": 4
}
