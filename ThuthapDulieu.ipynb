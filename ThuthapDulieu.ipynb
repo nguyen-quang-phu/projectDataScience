{
 "cells": [
  {
   "cell_type": "code",
   "execution_count": 21,
   "metadata": {},
   "outputs": [],
   "source": [
    "from requests_html import HTMLSession\n",
    "from requests_html import HTML\n",
    "from selenium import webdriver\n",
    "from selenium.webdriver.common.keys import Keys\n",
    "import time\n",
    "import csv"
   ]
  },
  {
   "cell_type": "code",
   "execution_count": 22,
   "metadata": {},
   "outputs": [],
   "source": [
    "def ThuThapData(link,maxNumPage,fileName):\n",
    "    f = open(fileName, \"w\",encoding=\"utf-8\")\n",
    "    f.write(\"Loại\\tTên\\tCác loại phòng\\tGiá\\tVị trí\\tSố đánh giá\\n\")\n",
    "    browser = webdriver.Chrome(executable_path='chromedriver.exe')\n",
    "    for page in range(1,maxNumPage+1):\n",
    "        url = f\"{link}{page}\"\n",
    "        browser.get(url)\n",
    "        time.sleep(3)\n",
    "        r = HTML(html=browser.page_source)\n",
    "        posts=r.find(\".promo.is-relative\")\n",
    "        for post in posts:\n",
    "            temp=post.text.split(\"\\n\")\n",
    "            # Bỏ đi dòng khuyến mãi\n",
    "            if temp[0][0]=='-':\n",
    "                temp.remove(temp[0])\n",
    "            # Bỏ đi trạng thái phòng\n",
    "            if 'Đặt phòng ngay' in temp[1]:\n",
    "                temp.remove(temp[1])\n",
    "            for i in temp:\n",
    "                f.write(i)\n",
    "                f.write(\"\\t\")\n",
    "            f.write(\"\\n\")\n",
    "    f.close()"
   ]
  },
  {
   "cell_type": "code",
   "execution_count": 27,
   "metadata": {},
   "outputs": [],
   "source": [
    "#ThuThapData(\"https://www.luxstay.com/vi/vietnam/lam-dong/da-lat?page=\",71,\"dalat.csv\")\n",
    "#ThuThapData(\"https://www.luxstay.com/vi/vietnam/ha-noi?page=\",93,\"hanoi.csv\")\n",
    "#ThuThapData(\"https://www.luxstay.com/vi/vietnam/ho-chi-minh?page=\",134,\"hochiminh.csv\")\n",
    "#ThuThapData(\"https://www.luxstay.com/vi/vietnam/ba-ria-vung-tau/vung-tau?page=\",31,\"vungtau.csv\")\n",
    "#ThuThapData(\"https://www.luxstay.com/vi/vietnam/khanh-hoa/nha-trang?page=\",34,\"nhatrang.csv\")\n",
    "#ThuThapData(\"https://www.luxstay.com/vi/vietnam/quang-ninh?page=\",15,\"quangninh.csv\")\n"
   ]
  }
 ],
 "metadata": {
  "kernelspec": {
   "display_name": "Python 3",
   "language": "python",
   "name": "python3"
  },
  "language_info": {
   "codemirror_mode": {
    "name": "ipython",
    "version": 3
   },
   "file_extension": ".py",
   "mimetype": "text/x-python",
   "name": "python",
   "nbconvert_exporter": "python",
   "pygments_lexer": "ipython3",
   "version": "3.7.3"
  }
 },
 "nbformat": 4,
 "nbformat_minor": 4
}
